{
 "cells": [
  {
   "cell_type": "code",
   "execution_count": 1,
   "metadata": {},
   "outputs": [],
   "source": [
    "#tentei exportar classes entre notebook porem não foi possivel, logo voltou fazer tudo o processo POO dentro de um unico notebook\n",
    "#!jupyter nbconvert --to script extracaoDados.ipynb\n",
    "\n",
    "import pandas as pd\n",
    "class carregarInfo():\n",
    "    \n",
    "    def __init__(self):\n",
    "        self.df01 = None\n",
    "\n",
    "    def readCsv(self, arquivo_csv):\n",
    "        try:\n",
    "            self.df01 = pd.read_csv(arquivo_csv)  \n",
    "            #print(\"Arquivo CSV carregado com sucesso.\")\n",
    "        except FileNotFoundError:\n",
    "             print(f\"Erro: O arquivo {self.__nome} não foi encontrado.\")\n",
    "        except Exception as e:\n",
    "            print(f\"Erro ao carregar os dados: {str(e)}\")\n",
    "    def mostraCsv(self):\n",
    "        if self.df01 is not None:\n",
    "            return self.df01\n",
    "        else:\n",
    "            return \"Os dados ainda não foram carregados\"\n",
    "    def dropDados(self, atribute1, atribute2):\n",
    "        #posso usar *atribute no lugar de atribute1, para o metodo muscar uma lista de colunas para exclusão.\n",
    "        self.df01.drop(columns=[atribute1, atribute2], inplace=True)"
   ]
  },
  {
   "cell_type": "code",
   "execution_count": 2,
   "metadata": {},
   "outputs": [],
   "source": [
    "class transformarDados():\n",
    "    \n",
    "    def __init__(self, carregarInfo):\n",
    "        self.carregarInfo = carregarInfo\n",
    "        self.dadosNull_resultado = None\n",
    "        self.df = None\n",
    "    \n",
    "    def vizualizarPorc(self):\n",
    "        if self.carregarInfo is not None:\n",
    "            self.resultado = (self.carregarInfo.mostraCsv().isna().sum() / self.carregarInfo.mostraCsv().count()) *100\n",
    "            return self.resultado.round(2)\n",
    "        else:\n",
    "            return None\n",
    "    def dadosNull(self):\n",
    "        ValorNulos = self.carregarInfo.mostraCsv().isna().sum()\n",
    "        self.dadosNull_resultado = ValorNulos\n",
    "        return self.dadosNull_resultado.round(2)\n",
    "        \n",
    "    def alteraValorMedio(self):\n",
    "        if self.dadosNull_resultado is not None:\n",
    "            self.df = self.carregarInfo.mostraCsv()\n",
    "            self.df.fillna(self.df.median(), inplace=True)\n",
    "            return self.df\n",
    "        else:\n",
    "            return None\n",
    "    def mostrarCsvTrans(self):\n",
    "        if self.df is not None:\n",
    "            return self.df\n",
    "        else:\n",
    "            return None\n",
    "        \n",
    "    \n",
    "        \n"
   ]
  },
  {
   "cell_type": "code",
   "execution_count": 3,
   "metadata": {},
   "outputs": [],
   "source": [
    "from sklearn.preprocessing import Normalizer\n",
    "\n",
    "class normalizarDados():\n",
    "    def __init__(self, dadosBrutos):\n",
    "        self.dadosBrutos = dadosBrutos\n",
    "        self.dadosNormalizados = None\n",
    "        \n",
    "    def escalarDados(self):\n",
    "        if self.dadosBrutos is not None:\n",
    "            self.dadosNormalizados = Normalizer().fit_transform(self.dadosBrutos.values)\n",
    "            return self.dadosNormalizados\n",
    "        else:\n",
    "            return None"
   ]
  },
  {
   "cell_type": "code",
   "execution_count": 4,
   "metadata": {},
   "outputs": [],
   "source": [
    "from sklearn.cluster import KMeans\n",
    "class modeloKNN():\n",
    "    def __init__(self, n_clusters, n_init, max_iter):\n",
    "        self.modelo = KMeans(n_clusters=n_clusters, n_init=n_init, max_iter=max_iter)\n",
    "        \n",
    "    def aplicarModelo(self, dadosNorm):\n",
    "        return self.modelo.fit_predict(dadosNorm)            \n",
    "     \n"
   ]
  },
  {
   "cell_type": "code",
   "execution_count": 10,
   "metadata": {},
   "outputs": [],
   "source": [
    "from sklearn import metrics\n",
    "class validacoes():\n",
    "    def validacaoSilho(self, values, modelo):\n",
    "        return metrics.silhouette_score(values, modelo, metric='euclidean')\n",
    "\n",
    "    def validacaoBould(self, values, modelo):\n",
    "        return metrics.davies_bouldin_score(values, modelo)\n",
    "    def validarCalinsky(self, values, modelo):\n",
    "        return metrics.calinski_harabasz_score(values, modelo)"
   ]
  },
  {
   "cell_type": "markdown",
   "metadata": {},
   "source": [
    "# PIPELINE"
   ]
  },
  {
   "cell_type": "code",
   "execution_count": 11,
   "metadata": {},
   "outputs": [
    {
     "data": {
      "text/plain": [
       "3431.7903477169225"
      ]
     },
     "execution_count": 11,
     "metadata": {},
     "output_type": "execute_result"
    }
   ],
   "source": [
    "\n",
    "dadosOrigem = carregarInfo()\n",
    "dadosOrigem.readCsv(\"CC GENERAL.csv\")\n",
    "dadosOrigem.dropDados('CUST_ID', 'TENURE')\n",
    "#dadosOrigem.mostraCsv()\n",
    "dadosTrans = transformarDados(dadosOrigem)\n",
    "#dadosTrans.vizualizarPorc()\n",
    "dadosTrans.dadosNull()\n",
    "dadosTrans.alteraValorMedio()\n",
    "dadosTrans.vizualizarPorc()\n",
    "dadosNorm = normalizarDados(dadosTrans.mostrarCsvTrans())\n",
    "rodarModelo = modeloKNN(5, 10, 300)\n",
    "values = dadosNorm.escalarDados()\n",
    "modelo = rodarModelo.aplicarModelo(values)\n",
    "validarDados = validacoes()\n",
    "validarDados.validacaoSilho(values, modelo)\n",
    "validarDados.validacaoBould(values, modelo)\n",
    "validarDados.validarCalinsky(values, modelo)\n",
    "\n"
   ]
  },
  {
   "cell_type": "code",
   "execution_count": null,
   "metadata": {},
   "outputs": [],
   "source": []
  },
  {
   "cell_type": "code",
   "execution_count": null,
   "metadata": {},
   "outputs": [],
   "source": []
  },
  {
   "cell_type": "code",
   "execution_count": null,
   "metadata": {},
   "outputs": [],
   "source": [
    "\n"
   ]
  },
  {
   "cell_type": "code",
   "execution_count": null,
   "metadata": {},
   "outputs": [],
   "source": [
    "silhouette"
   ]
  }
 ],
 "metadata": {
  "kernelspec": {
   "display_name": "Python 3",
   "language": "python",
   "name": "python3"
  },
  "language_info": {
   "codemirror_mode": {
    "name": "ipython",
    "version": 3
   },
   "file_extension": ".py",
   "mimetype": "text/x-python",
   "name": "python",
   "nbconvert_exporter": "python",
   "pygments_lexer": "ipython3",
   "version": "3.10.12"
  },
  "orig_nbformat": 4
 },
 "nbformat": 4,
 "nbformat_minor": 2
}
