{
 "cells": [
  {
   "cell_type": "code",
   "execution_count": 29,
   "metadata": {},
   "outputs": [],
   "source": [
    "#tentei exportar classes entre notebook porem não foi possivel, logo voltou fazer tudo o processo POO dentro de um unico notebook\n",
    "#!jupyter nbconvert --to script extracaoDados.ipynb\n",
    "\n",
    "import pandas as pd\n",
    "class carregarInfo():\n",
    "    \n",
    "    def __init__(self):\n",
    "        self.df01 = None\n",
    "\n",
    "    def readCsv(self, arquivo_csv):\n",
    "        try:\n",
    "            self.df01 = pd.read_csv(arquivo_csv)  \n",
    "            print(\"Arquivo CSV carregado com sucesso.\")\n",
    "        except FileNotFoundError:\n",
    "             print(f\"Erro: O arquivo {self.__nome} não foi encontrado.\")\n",
    "        except Exception as e:\n",
    "            print(f\"Erro ao carregar os dados: {str(e)}\")\n",
    "    def mostraCsv(self):\n",
    "        if self.df01 is not None:\n",
    "            return self.df01\n",
    "        else:\n",
    "            return \"Os dados ainda não foram carregados\"\n",
    "    "
   ]
  },
  {
   "cell_type": "code",
   "execution_count": 49,
   "metadata": {},
   "outputs": [],
   "source": [
    "class transformarDados():\n",
    "    \n",
    "    def __init__(self, carregarInfo):\n",
    "        self.carregarInfo = carregarInfo\n",
    "        self.dadosNull_resultado = None\n",
    "    \n",
    "    def dadosNull(self):\n",
    "        if self.carregarInfo is not None:\n",
    "            ValorNulos = self.carregarInfo.mostraCsv().isna().sum()\n",
    "            total = self.carregarInfo.mostraCsv().count()\n",
    "            self.dadosNull_resultado = (ValorNulos / total) *100\n",
    "            return self.dadosNull_resultado.round(2)\n",
    "        else:\n",
    "            return None\n",
    "    \n",
    "    def mediaValor(self, dadosNull):\n",
    "        if self.dadosNull_resultado is not None:\n",
    "            df = self.carregarInfo.mostraCsv()\n",
    "            df.fillna(df.median(), inplace=True)\n",
    "            return df\n",
    "        else:\n",
    "            return None\n",
    "    \n",
    "        \n"
   ]
  },
  {
   "cell_type": "code",
   "execution_count": 51,
   "metadata": {},
   "outputs": [
    {
     "name": "stdout",
     "output_type": "stream",
     "text": [
      "Arquivo CSV carregado com sucesso.\n"
     ]
    },
    {
     "ename": "TypeError",
     "evalue": "transformarDados.mediaValor() missing 1 required positional argument: 'dadosNull'",
     "output_type": "error",
     "traceback": [
      "\u001b[0;31m---------------------------------------------------------------------------\u001b[0m",
      "\u001b[0;31mTypeError\u001b[0m                                 Traceback (most recent call last)",
      "Cell \u001b[0;32mIn[51], line 6\u001b[0m\n\u001b[1;32m      4\u001b[0m dadosTrans \u001b[39m=\u001b[39m transformarDados(dadosOrigem)\n\u001b[1;32m      5\u001b[0m dadosTrans\u001b[39m.\u001b[39mdadosNull()\n\u001b[0;32m----> 6\u001b[0m dadosTrans\u001b[39m.\u001b[39;49mmediaValor()\n",
      "\u001b[0;31mTypeError\u001b[0m: transformarDados.mediaValor() missing 1 required positional argument: 'dadosNull'"
     ]
    }
   ],
   "source": [
    "dadosOrigem = carregarInfo()\n",
    "dadosOrigem.readCsv(\"CC GENERAL.csv\")\n",
    "#dadosOrigem.mostraCsv()\n",
    "dadosTrans = transformarDados(dadosOrigem)\n",
    "dadosTrans.dadosNull()\n",
    "dadosTrans.mediaValor()"
   ]
  },
  {
   "cell_type": "code",
   "execution_count": 28,
   "metadata": {},
   "outputs": [
    {
     "data": {
      "text/plain": [
       "'Os dados ainda não foram carregados'"
      ]
     },
     "execution_count": 28,
     "metadata": {},
     "output_type": "execute_result"
    }
   ],
   "source": [
    "dadosOrigem.mostraCsv()"
   ]
  },
  {
   "cell_type": "code",
   "execution_count": null,
   "metadata": {},
   "outputs": [],
   "source": []
  },
  {
   "cell_type": "code",
   "execution_count": 14,
   "metadata": {},
   "outputs": [
    {
     "data": {
      "text/plain": [
       "NoneType"
      ]
     },
     "execution_count": 14,
     "metadata": {},
     "output_type": "execute_result"
    }
   ],
   "source": []
  }
 ],
 "metadata": {
  "kernelspec": {
   "display_name": "Python 3",
   "language": "python",
   "name": "python3"
  },
  "language_info": {
   "codemirror_mode": {
    "name": "ipython",
    "version": 3
   },
   "file_extension": ".py",
   "mimetype": "text/x-python",
   "name": "python",
   "nbconvert_exporter": "python",
   "pygments_lexer": "ipython3",
   "version": "3.10.12"
  },
  "orig_nbformat": 4
 },
 "nbformat": 4,
 "nbformat_minor": 2
}
