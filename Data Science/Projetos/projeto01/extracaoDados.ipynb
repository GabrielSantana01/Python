{
 "cells": [
  {
   "cell_type": "code",
   "execution_count": 29,
   "metadata": {},
   "outputs": [],
   "source": [
    "#tentei exportar classes entre notebook porem não foi possivel, logo voltou fazer tudo o processo POO dentro de um unico notebook\n",
    "#!jupyter nbconvert --to script extracaoDados.ipynb\n",
    "\n",
    "import pandas as pd\n",
    "class carregarInfo():\n",
    "    \n",
    "    def __init__(self):\n",
    "        self.df01 = None\n",
    "\n",
    "    def readCsv(self, arquivo_csv):\n",
    "        try:\n",
    "            self.df01 = pd.read_csv(arquivo_csv)  \n",
    "            print(\"Arquivo CSV carregado com sucesso.\")\n",
    "        except FileNotFoundError:\n",
    "             print(f\"Erro: O arquivo {self.__nome} não foi encontrado.\")\n",
    "        except Exception as e:\n",
    "            print(f\"Erro ao carregar os dados: {str(e)}\")\n",
    "    def mostraCsv(self):\n",
    "        if self.df01 is not None:\n",
    "            return self.df01\n",
    "        else:\n",
    "            return \"Os dados ainda não foram carregados\"\n",
    "    "
   ]
  },
  {
   "cell_type": "code",
   "execution_count": 77,
   "metadata": {},
   "outputs": [],
   "source": [
    "class transformarDados():\n",
    "    \n",
    "    def __init__(self, carregarInfo):\n",
    "        self.carregarInfo = carregarInfo\n",
    "        self.dadosNull_resultado = None\n",
    "    \n",
    "    def vizualizarPorc(self):\n",
    "        if self.carregarInfo is not None:\n",
    "            self.resultado = (self.carregarInfo.mostraCsv().isna().sum() / self.carregarInfo.mostraCsv().count()) *100\n",
    "            return self.resultado.round(2)\n",
    "        else:\n",
    "            return None\n",
    "    def dadosNull(self):\n",
    "        ValorNulos = self.carregarInfo.mostraCsv().isna().sum()\n",
    "        self.dadosNull_resultado = ValorNulos\n",
    "        return self.dadosNull_resultado.round(2)\n",
    "        \n",
    "    def alteraValorMedio(self):\n",
    "        if self.dadosNull_resultado is not None:\n",
    "            df = self.carregarInfo.mostraCsv()\n",
    "            df.fillna(df.median(), inplace=True)\n",
    "            return df\n",
    "        else:\n",
    "            return None\n",
    "    \n",
    "        \n"
   ]
  },
  {
   "cell_type": "code",
   "execution_count": 78,
   "metadata": {},
   "outputs": [
    {
     "name": "stdout",
     "output_type": "stream",
     "text": [
      "Arquivo CSV carregado com sucesso.\n"
     ]
    },
    {
     "name": "stderr",
     "output_type": "stream",
     "text": [
      "/tmp/ipykernel_645/2684361909.py:21: FutureWarning: Dropping of nuisance columns in DataFrame reductions (with 'numeric_only=None') is deprecated; in a future version this will raise TypeError.  Select only valid columns before calling the reduction.\n",
      "  df.fillna(df.median(), inplace=True)\n"
     ]
    },
    {
     "data": {
      "text/plain": [
       "CUST_ID                             0.0\n",
       "BALANCE                             0.0\n",
       "BALANCE_FREQUENCY                   0.0\n",
       "PURCHASES                           0.0\n",
       "ONEOFF_PURCHASES                    0.0\n",
       "INSTALLMENTS_PURCHASES              0.0\n",
       "CASH_ADVANCE                        0.0\n",
       "PURCHASES_FREQUENCY                 0.0\n",
       "ONEOFF_PURCHASES_FREQUENCY          0.0\n",
       "PURCHASES_INSTALLMENTS_FREQUENCY    0.0\n",
       "CASH_ADVANCE_FREQUENCY              0.0\n",
       "CASH_ADVANCE_TRX                    0.0\n",
       "PURCHASES_TRX                       0.0\n",
       "CREDIT_LIMIT                        0.0\n",
       "PAYMENTS                            0.0\n",
       "MINIMUM_PAYMENTS                    0.0\n",
       "PRC_FULL_PAYMENT                    0.0\n",
       "TENURE                              0.0\n",
       "dtype: float64"
      ]
     },
     "execution_count": 78,
     "metadata": {},
     "output_type": "execute_result"
    }
   ],
   "source": [
    "dadosOrigem = carregarInfo()\n",
    "dadosOrigem.readCsv(\"CC GENERAL.csv\")\n",
    "#dadosOrigem.mostraCsv()\n",
    "dadosTrans = transformarDados(dadosOrigem)\n",
    "#dadosTrans.vizualizarPorc()\n",
    "dadosTrans.dadosNull()\n",
    "dadosTrans.alteraValorMedio()\n",
    "dadosTrans.vizualizarPorc()"
   ]
  },
  {
   "cell_type": "code",
   "execution_count": 79,
   "metadata": {},
   "outputs": [],
   "source": [
    "class Exemplo:\n",
    "    def __init__(self):\n",
    "        self.x = 0  # x é uma variável de instância\n",
    "\n",
    "    def metodo1(self):\n",
    "        self.x = 42\n",
    "\n",
    "    def metodo2(self):\n",
    "        print(self.x)  # É possível acessar self.x de método2\n"
   ]
  },
  {
   "cell_type": "code",
   "execution_count": 80,
   "metadata": {},
   "outputs": [
    {
     "name": "stdout",
     "output_type": "stream",
     "text": [
      "42\n"
     ]
    }
   ],
   "source": [
    "ex = Exemplo()\n",
    "ex.metodo1()\n",
    "ex.metodo2()"
   ]
  },
  {
   "cell_type": "code",
   "execution_count": 14,
   "metadata": {},
   "outputs": [
    {
     "data": {
      "text/plain": [
       "NoneType"
      ]
     },
     "execution_count": 14,
     "metadata": {},
     "output_type": "execute_result"
    }
   ],
   "source": []
  }
 ],
 "metadata": {
  "kernelspec": {
   "display_name": "Python 3",
   "language": "python",
   "name": "python3"
  },
  "language_info": {
   "codemirror_mode": {
    "name": "ipython",
    "version": 3
   },
   "file_extension": ".py",
   "mimetype": "text/x-python",
   "name": "python",
   "nbconvert_exporter": "python",
   "pygments_lexer": "ipython3",
   "version": "3.10.12"
  },
  "orig_nbformat": 4
 },
 "nbformat": 4,
 "nbformat_minor": 2
}
