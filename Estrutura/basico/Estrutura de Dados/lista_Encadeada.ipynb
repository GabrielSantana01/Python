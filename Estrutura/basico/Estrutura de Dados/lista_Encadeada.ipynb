{
 "cells": [
  {
   "cell_type": "markdown",
   "metadata": {},
   "source": [
    "## Lista Encateada\n",
    "a lista resolve o problema de inserção de novos valores no meio de um array ou ate mesmo a remoção de itens, obrigando o array a realocar o indice dos demais valores. \n",
    "basicamente a lista Encadeada contem em um bloco contendo o valor do dado e um ponteiro do proximo no.\n",
    "tambem é identificado nessa lista o começo(Head) e o fim(tail)"
   ]
  },
  {
   "cell_type": "code",
   "execution_count": 2,
   "metadata": {},
   "outputs": [],
   "source": [
    "\n",
    "class ItemLista:\n",
    "    def __init__(self, data = 0, nextItem = None):\n",
    "        self.data = data \n",
    "        self.nextItem = nextItem\n",
    "    \n",
    "    def __ref__(self):\n",
    "        return '%s => %s'% (self.data, self.nextItem)\n",
    "    \n",
    "\n",
    " "
   ]
  },
  {
   "cell_type": "code",
   "execution_count": 22,
   "metadata": {},
   "outputs": [],
   "source": [
    "class ListaEncadeada:\n",
    "    def __int__(self):\n",
    "        self.head = None\n",
    "    \n",
    "    #def __repr__(self):\n",
    "    #     return self.head\n",
    "    \n",
    "    def insere(lista, data):\n",
    "        item = ItemLista(data)\n",
    "        item.nextItem = lista.head\n",
    "        list.head = item\n",
    "    \n",
    "    "
   ]
  },
  {
   "cell_type": "code",
   "execution_count": 26,
   "metadata": {},
   "outputs": [
    {
     "ename": "AttributeError",
     "evalue": "'ListaEncadeada' object has no attribute 'head'",
     "output_type": "error",
     "traceback": [
      "\u001b[0;31m---------------------------------------------------------------------------\u001b[0m",
      "\u001b[0;31mAttributeError\u001b[0m                            Traceback (most recent call last)",
      "\u001b[1;32m/home/gabrielux/Python/Estrutura/basico/Estrutura de Dados/lista_Encadeada.ipynb Cell 4\u001b[0m line \u001b[0;36m4\n\u001b[1;32m      <a href='vscode-notebook-cell://wsl%2Bubuntu/home/gabrielux/Python/Estrutura/basico/Estrutura%20de%20Dados/lista_Encadeada.ipynb#W3sdnNjb2RlLXJlbW90ZQ%3D%3D?line=0'>1</a>\u001b[0m lista \u001b[39m=\u001b[39m ListaEncadeada()\n\u001b[1;32m      <a href='vscode-notebook-cell://wsl%2Bubuntu/home/gabrielux/Python/Estrutura/basico/Estrutura%20de%20Dados/lista_Encadeada.ipynb#W3sdnNjb2RlLXJlbW90ZQ%3D%3D?line=2'>3</a>\u001b[0m item \u001b[39m=\u001b[39m ItemLista(\u001b[39m\"\u001b[39m\u001b[39mabacate\u001b[39m\u001b[39m\"\u001b[39m)\n\u001b[0;32m----> <a href='vscode-notebook-cell://wsl%2Bubuntu/home/gabrielux/Python/Estrutura/basico/Estrutura%20de%20Dados/lista_Encadeada.ipynb#W3sdnNjb2RlLXJlbW90ZQ%3D%3D?line=3'>4</a>\u001b[0m item\u001b[39m.\u001b[39mnextItem \u001b[39m=\u001b[39m lista\u001b[39m.\u001b[39;49mhead\n\u001b[1;32m      <a href='vscode-notebook-cell://wsl%2Bubuntu/home/gabrielux/Python/Estrutura/basico/Estrutura%20de%20Dados/lista_Encadeada.ipynb#W3sdnNjb2RlLXJlbW90ZQ%3D%3D?line=4'>5</a>\u001b[0m \u001b[39mlist\u001b[39m\u001b[39m.\u001b[39mhead \u001b[39m=\u001b[39m item\n\u001b[1;32m      <a href='vscode-notebook-cell://wsl%2Bubuntu/home/gabrielux/Python/Estrutura/basico/Estrutura%20de%20Dados/lista_Encadeada.ipynb#W3sdnNjb2RlLXJlbW90ZQ%3D%3D?line=7'>8</a>\u001b[0m \u001b[39m#ListaEncadeada.insere(lista, \"abacate\")\u001b[39;00m\n\u001b[1;32m      <a href='vscode-notebook-cell://wsl%2Bubuntu/home/gabrielux/Python/Estrutura/basico/Estrutura%20de%20Dados/lista_Encadeada.ipynb#W3sdnNjb2RlLXJlbW90ZQ%3D%3D?line=8'>9</a>\u001b[0m \u001b[39m#print(lista)\u001b[39;00m\n\u001b[1;32m     <a href='vscode-notebook-cell://wsl%2Bubuntu/home/gabrielux/Python/Estrutura/basico/Estrutura%20de%20Dados/lista_Encadeada.ipynb#W3sdnNjb2RlLXJlbW90ZQ%3D%3D?line=9'>10</a>\u001b[0m \u001b[39m#print('conteudo da lista: ', lista)\u001b[39;00m\n",
      "\u001b[0;31mAttributeError\u001b[0m: 'ListaEncadeada' object has no attribute 'head'"
     ]
    }
   ],
   "source": [
    "\n",
    "lista = ListaEncadeada()\n",
    "\n",
    "item = ItemLista(\"abacate\")\n",
    "item.nextItem = lista.head\n",
    "list.head = item\n",
    "        \n",
    "\n",
    "#ListaEncadeada.insere(lista, \"abacate\")\n",
    "#print(lista)\n",
    "#print('conteudo da lista: ', lista)"
   ]
  }
 ],
 "metadata": {
  "kernelspec": {
   "display_name": "Python 3",
   "language": "python",
   "name": "python3"
  },
  "language_info": {
   "codemirror_mode": {
    "name": "ipython",
    "version": 3
   },
   "file_extension": ".py",
   "mimetype": "text/x-python",
   "name": "python",
   "nbconvert_exporter": "python",
   "pygments_lexer": "ipython3",
   "version": "3.10.12"
  },
  "orig_nbformat": 4
 },
 "nbformat": 4,
 "nbformat_minor": 2
}
