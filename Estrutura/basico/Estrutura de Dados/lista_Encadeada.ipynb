{
 "cells": [
  {
   "cell_type": "markdown",
   "metadata": {},
   "source": [
    "## Lista Encateada\n",
    "a lista resolve o problema de inserção de novos valores no meio de um array ou ate mesmo a remoção de itens, obrigando o array a realocar o indice dos demais valores. \n",
    "basicamente a lista Encadeada contem em um bloco contendo o valor do dado e um ponteiro do proximo no.\n",
    "tambem é identificado nessa lista o começo(Head) e o fim(tail)"
   ]
  },
  {
   "cell_type": "code",
   "execution_count": 2,
   "metadata": {},
   "outputs": [],
   "source": [
    "\n",
    "class Node:\n",
    "    def __init__(self, value):# o bloco do (No) é criado aqui, é preciso de 2 atributos, o valor e o ponteiro\n",
    "        self.value = value\n",
    "        self.next = None # o ponteiro sempre é Node pois toda vez que um no é criado ele vai ser o ultimo da lista.\n",
    "\n",
    "    \n",
    "\n",
    " "
   ]
  },
  {
   "cell_type": "code",
   "execution_count": 22,
   "metadata": {},
   "outputs": [],
   "source": [
    "class LinkedList: # essa classe é responsavel pela organização dos (Nos) para que ocorre o comportamento de uma lista encadeada\n",
    "    def __init__(self):\n",
    "        self.head = None # no construtor é criado a variavel head que ser preenchida uma unica vez\n",
    "\n",
    "    def append(self, value):\n",
    "        new_node = Node(value)\n",
    "        if self.head is None:# ao criar um novo no para a lista encadeada é verificado se é o primeiro no, caso seja esse (no) recebe o valor de head\n",
    "            self.head = new_node # o preenchimento da variavel head ocorre, com o valor do (No).\n",
    "            return # esse retorno interrompe o codigo quando é criado o 1º (No)\n",
    "        current = self.head # aqui ocorre a MAGICA. essa parte do script so roda apartir do 2º (No), essa linha pega o valor do head que vai ser sempre o 1º (No)\n",
    "        #e atribui esse valor a variavel current. isso faz com que o 2º (No) tenha acesso ao 1º (No) e é o 2º no que faz a alteração no 1º (No) informando que agora\n",
    "        #existe valor no ponteiro(current.next)\n",
    "        while current.next:#essa parte so roda apartir do 2º No, pois é interrombido no return do if acima. porem a 1º que esse while roda pega o ponteiro do 1º (No)\n",
    "        # que por sua vez é nulo.\n",
    "            current = current.next # o script so entre no while quando o ponteiro for diferente de None, quando isso corre current (que é o valor do primeiro (No) varre a lista encadeada ate achar o ultimo (No)quando o while achar o ultimo (No)ele não roda mais e vai pra linha fora do laço)\n",
    "        current.next = new_node# o (No) do objeto anterior recebe como referencia o valor do objeto recentemente criado.\n",
    "        #é aqui que ocorre o apontamento para o ponteiro criado.\n",
    "\n",
    "    def display(self):\n",
    "        current = self.head\n",
    "        while current:\n",
    "            print(current.value, end=' -> ')\n",
    "            current = current.next\n",
    "        print(\"None\")\n"
   ]
  },
  {
   "cell_type": "code",
   "execution_count": 26,
   "metadata": {},
   "outputs": [
    {
     "ename": "AttributeError",
     "evalue": "'ListaEncadeada' object has no attribute 'head'",
     "output_type": "error",
     "traceback": [
      "\u001b[0;31m---------------------------------------------------------------------------\u001b[0m",
      "\u001b[0;31mAttributeError\u001b[0m                            Traceback (most recent call last)",
      "\u001b[1;32m/home/gabrielux/Python/Estrutura/basico/Estrutura de Dados/lista_Encadeada.ipynb Cell 4\u001b[0m line \u001b[0;36m4\n\u001b[1;32m      <a href='vscode-notebook-cell://wsl%2Bubuntu/home/gabrielux/Python/Estrutura/basico/Estrutura%20de%20Dados/lista_Encadeada.ipynb#W3sdnNjb2RlLXJlbW90ZQ%3D%3D?line=0'>1</a>\u001b[0m lista \u001b[39m=\u001b[39m ListaEncadeada()\n\u001b[1;32m      <a href='vscode-notebook-cell://wsl%2Bubuntu/home/gabrielux/Python/Estrutura/basico/Estrutura%20de%20Dados/lista_Encadeada.ipynb#W3sdnNjb2RlLXJlbW90ZQ%3D%3D?line=2'>3</a>\u001b[0m item \u001b[39m=\u001b[39m ItemLista(\u001b[39m\"\u001b[39m\u001b[39mabacate\u001b[39m\u001b[39m\"\u001b[39m)\n\u001b[0;32m----> <a href='vscode-notebook-cell://wsl%2Bubuntu/home/gabrielux/Python/Estrutura/basico/Estrutura%20de%20Dados/lista_Encadeada.ipynb#W3sdnNjb2RlLXJlbW90ZQ%3D%3D?line=3'>4</a>\u001b[0m item\u001b[39m.\u001b[39mnextItem \u001b[39m=\u001b[39m lista\u001b[39m.\u001b[39;49mhead\n\u001b[1;32m      <a href='vscode-notebook-cell://wsl%2Bubuntu/home/gabrielux/Python/Estrutura/basico/Estrutura%20de%20Dados/lista_Encadeada.ipynb#W3sdnNjb2RlLXJlbW90ZQ%3D%3D?line=4'>5</a>\u001b[0m \u001b[39mlist\u001b[39m\u001b[39m.\u001b[39mhead \u001b[39m=\u001b[39m item\n\u001b[1;32m      <a href='vscode-notebook-cell://wsl%2Bubuntu/home/gabrielux/Python/Estrutura/basico/Estrutura%20de%20Dados/lista_Encadeada.ipynb#W3sdnNjb2RlLXJlbW90ZQ%3D%3D?line=7'>8</a>\u001b[0m \u001b[39m#ListaEncadeada.insere(lista, \"abacate\")\u001b[39;00m\n\u001b[1;32m      <a href='vscode-notebook-cell://wsl%2Bubuntu/home/gabrielux/Python/Estrutura/basico/Estrutura%20de%20Dados/lista_Encadeada.ipynb#W3sdnNjb2RlLXJlbW90ZQ%3D%3D?line=8'>9</a>\u001b[0m \u001b[39m#print(lista)\u001b[39;00m\n\u001b[1;32m     <a href='vscode-notebook-cell://wsl%2Bubuntu/home/gabrielux/Python/Estrutura/basico/Estrutura%20de%20Dados/lista_Encadeada.ipynb#W3sdnNjb2RlLXJlbW90ZQ%3D%3D?line=9'>10</a>\u001b[0m \u001b[39m#print('conteudo da lista: ', lista)\u001b[39;00m\n",
      "\u001b[0;31mAttributeError\u001b[0m: 'ListaEncadeada' object has no attribute 'head'"
     ]
    }
   ],
   "source": [
    "no1 = Node('Gabriel')\n",
    "no2 = Node('Maria')\n",
    "#no1.next = no2\n",
    "no3 = Node('Carlos')\n",
    "#no2.next = no3\n",
    "no4 = Node('Gleice')\n",
    "#no3.next = no4\n",
    "no5 = Node('Ayla')\n",
    "#no1.next = no2"
   ]
  }
 ],
 "metadata": {
  "kernelspec": {
   "display_name": "Python 3",
   "language": "python",
   "name": "python3"
  },
  "language_info": {
   "codemirror_mode": {
    "name": "ipython",
    "version": 3
   },
   "file_extension": ".py",
   "mimetype": "text/x-python",
   "name": "python",
   "nbconvert_exporter": "python",
   "pygments_lexer": "ipython3",
   "version": "3.10.12"
  },
  "orig_nbformat": 4
 },
 "nbformat": 4,
 "nbformat_minor": 2
}
