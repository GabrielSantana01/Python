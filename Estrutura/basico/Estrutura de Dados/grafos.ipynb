{
 "cells": [
  {
   "cell_type": "markdown",
   "metadata": {},
   "source": [
    "## CONCEITO\n",
    "\n"
   ]
  },
  {
   "cell_type": "markdown",
   "metadata": {},
   "source": [
    "grafos não direcionados é um grafo bidirecional nao tem direção na seta\n",
    "\n",
    "grafo não direcionados desconexo, quando existe alguns vertices que esta desconexo dos outros. basicamente existe agrupamentos entre alguns vertices.\n",
    "\n",
    "grafos orientado, é quando a relaçã oentre os vertices não é simetrica.\n",
    "grafos valorados, tem arestas com valores ou peso\n",
    "\n",
    "representação do grafo:\n",
    "E = {{A, B}, {B, C}, {C, D}, {D, E}, {E, F}, {F, D}, {D, A}}\n",
    "\n",
    "Euleriano = se e somente se, todos os vertices são de grau par. semieuleriano, se e somente se, tem 2 vertices de grau impar.\n",
    "grau = é quantas arestas existe ligadas a cada vertices quando o grafo é direcionado criamos \n",
    "pontos cartesianos para contar o grau. ex. (0, 2) isso significa que esta chegando 0 arestas e esta saindo 2 arestas.\n",
    "vertices adjacentes = é quando os vertices são vizinho, ou seja tem uma aresta ligando os vertices.\n",
    "usamos a biblioteca networkx pra a criação dos grafos. responsavel por desenhar o grafo na tela.\n",
    "\n",
    "Ponto de articulação é um vértice cuja remoção torna o grafo não conexo\n",
    "\n",
    "quando pecorremos um grafo de modo aleatório chamamos de walk(passeio)\n",
    "quando pecorremos um grafo sem a repetição de arestas chamados de trilha\n",
    "quando pecorremos um grafo onde o vertice final é o mesmo do vertice inicial chamamos de trilha fechada.\n",
    "\n",
    "algoritmos para obter arvore geradora de custo minimo:\n",
    "arvore geradora(spanning tree): é uma arvore que conecta todos os vertices de um grafo.\n",
    "\n",
    "arvore geradora minima(minimum spanning tree, MST): é uma arvore que conecta todos os vertices de um grafo ponderado e a soma dos pesos é a minima. \n",
    "\n",
    "temos que desconciderar arestas com custo alto e que fecham ciclos.\n",
    "tando o algoritmo de Kruskal quanto o algoritmo de Prim tem como objetivo  obter uma arvore geradora de custo minimo. ja o algoritmo de Kikstra estima o menor caminho entre dois pontos. um tem como referencia o peso o outro tem como referencia a quantidade de passos.\n",
    "\n",
    "Kruskal = as arestas são posta em ordem crescente. BASICAMENTE O KRUSKAL  pega os vertices unicos com menor valor indepentente da ordem ou ligações entre os vertices, e o PRIM pega os vertices unicos com o menor valor seguindo uma ordem de ligação vertice a vertice.\n",
    "\n",
    "Prim = o algoritmo de prim cria uma fila ordenada para o vertice escolhido e transfere para a MST o caminho com o menor peso sempre. entao se temos {D,C,2} e {D,E,5} sabemos que foi iniciado o grafo pelo vertice D e que  de D para C custa 2, esse é o caminho mais curto entao o caminho a ser adicionado na arvore de custo minimo será esse\n",
    "\n",
    "Dikstra = estima o menor caminho entre dois pontos, é escolhido dois vertice A e F onde o algoritmo retorna o menor caminho entre os 2 vertice. \n",
    "\n",
    "\n",
    "\n",
    "busca em profundidade \n",
    "\n",
    "busca em largura"
   ]
  },
  {
   "cell_type": "code",
   "execution_count": 1,
   "metadata": {},
   "outputs": [],
   "source": [
    "import networkx as nx\n",
    "import matplotlib.pyplot as plt\n",
    "\n",
    "class visualizacaoGrafo:\n",
    "    def __init__ (self):\n",
    "        self.visual = []\n",
    "    \n",
    "    def adicionarAresta(self, a, b):\n",
    "        temp = [a, b]\n",
    "        self.visual.append(temp)\n",
    "    \n",
    "    def desenhar(self):\n",
    "        G = nx.Graph()\n",
    "        G.add_edges_from(self.visual)\n",
    "        nx.draw_networkx(G, node_color='lightgrey')\n",
    "        plt.show()\n",
    "\n",
    " \n"
   ]
  },
  {
   "cell_type": "code",
   "execution_count": 2,
   "metadata": {},
   "outputs": [
    {
     "data": {
      "image/png": "[encoded data removed]",
      "text/plain": [
       "<Figure size 640x480 with 1 Axes>"
      ]
     },
     "metadata": {},
     "output_type": "display_data"
    },
    {
     "ename": "AttributeError",
     "evalue": "'Graph' object has no attribute 'visualizacaoGrafo'",
     "output_type": "error",
     "traceback": [
      "\u001b[0;31m---------------------------------------------------------------------------\u001b[0m",
      "\u001b[0;31mAttributeError\u001b[0m                            Traceback (most recent call last)",
      "\u001b[1;32m/home/gabrielux/Python/Estrutura/basico/Estrutura de Dados/grafos.ipynb Cell 4\u001b[0m line \u001b[0;36m7\n\u001b[1;32m      <a href='vscode-notebook-cell://wsl%2Bubuntu-20.04/home/gabrielux/Python/Estrutura/basico/Estrutura%20de%20Dados/grafos.ipynb#W3sdnNjb2RlLXJlbW90ZQ%3D%3D?line=4'>5</a>\u001b[0m G\u001b[39m.\u001b[39madicionarAresta(\u001b[39m'\u001b[39m\u001b[39mPedro\u001b[39m\u001b[39m'\u001b[39m,\u001b[39m'\u001b[39m\u001b[39mCC\u001b[39m\u001b[39m'\u001b[39m)\n\u001b[1;32m      <a href='vscode-notebook-cell://wsl%2Bubuntu-20.04/home/gabrielux/Python/Estrutura/basico/Estrutura%20de%20Dados/grafos.ipynb#W3sdnNjb2RlLXJlbW90ZQ%3D%3D?line=5'>6</a>\u001b[0m G\u001b[39m.\u001b[39madicionarAresta(\u001b[39m'\u001b[39m\u001b[39mJoao\u001b[39m\u001b[39m'\u001b[39m, \u001b[39m'\u001b[39m\u001b[39mCC\u001b[39m\u001b[39m'\u001b[39m)\n\u001b[0;32m----> <a href='vscode-notebook-cell://wsl%2Bubuntu-20.04/home/gabrielux/Python/Estrutura/basico/Estrutura%20de%20Dados/grafos.ipynb#W3sdnNjb2RlLXJlbW90ZQ%3D%3D?line=6'>7</a>\u001b[0m G\u001b[39m.\u001b[39;49mdesenhar()\n",
      "\u001b[1;32m/home/gabrielux/Python/Estrutura/basico/Estrutura de Dados/grafos.ipynb Cell 4\u001b[0m line \u001b[0;36m1\n\u001b[1;32m     <a href='vscode-notebook-cell://wsl%2Bubuntu-20.04/home/gabrielux/Python/Estrutura/basico/Estrutura%20de%20Dados/grafos.ipynb#W3sdnNjb2RlLXJlbW90ZQ%3D%3D?line=14'>15</a>\u001b[0m nx\u001b[39m.\u001b[39mdraw_networkx(G, node_color\u001b[39m=\u001b[39m\u001b[39m'\u001b[39m\u001b[39mlightgrey\u001b[39m\u001b[39m'\u001b[39m)\n\u001b[1;32m     <a href='vscode-notebook-cell://wsl%2Bubuntu-20.04/home/gabrielux/Python/Estrutura/basico/Estrutura%20de%20Dados/grafos.ipynb#W3sdnNjb2RlLXJlbW90ZQ%3D%3D?line=15'>16</a>\u001b[0m plt\u001b[39m.\u001b[39mshow()\n\u001b[0;32m---> <a href='vscode-notebook-cell://wsl%2Bubuntu-20.04/home/gabrielux/Python/Estrutura/basico/Estrutura%20de%20Dados/grafos.ipynb#W3sdnNjb2RlLXJlbW90ZQ%3D%3D?line=16'>17</a>\u001b[0m G\u001b[39m.\u001b[39;49mvisualizacaoGrafo()\n",
      "\u001b[0;31mAttributeError\u001b[0m: 'Graph' object has no attribute 'visualizacaoGrafo'"
     ]
    }
   ],
   "source": [
    "G = visualizacaoGrafo()\n",
    "G.adicionarAresta('Pedro', 'CP')\n",
    "G.adicionarAresta('Pedro', 'Carla')\n",
    "G.adicionarAresta('Carla', 'CP')\n",
    "G.adicionarAresta('Pedro','CC')\n",
    "G.adicionarAresta('Joao', 'CC')\n",
    "G.desenhar()"
   ]
  },
  {
   "cell_type": "code",
   "execution_count": null,
   "metadata": {},
   "outputs": [],
   "source": [
    "class Grafo:\n",
    "    def __init__(self, direcionado=False, valorado=False):\n",
    "        self._vertices = dict()\n",
    "        self.direcionado = direcionado\n",
    "        self.valorado = valorado\n",
    "\n",
    "    def inserir_vertice(self, id_vertice):\n",
    "        self._vertices[id_vertice] = Vertice(id_vertice, self.valorado)\n",
    "        return self.inserir_vertices[id_vertice]\n",
    "    \n",
    "    def obter_vertice(self, id_vertice):\n",
    "        return self._vertice.get(id_vertice)\n",
    "    \n",
    "    def raiz_vertice(self, id_vertice):\n",
    "        return (self.obter_vertice(id_vertice) or self.inserir_vertice(id_vertice))\n",
    "    \n",
    "    def inserir_aresta(self, id_origem, id_destino, custo=None):\n",
    "        if self.valorado and custo is None:\n",
    "            raise ValueError(\"Obrigatorio informar o custo\")\n",
    "        v_origem = self._raiz_vertice(id_origem)\n",
    "        v_destino = self._raiz_vertice(id_destino)\n",
    "        v_origem.inserir_adjacente(id_destino, custo)\n",
    "\n",
    "        if not self.direcionado:\n",
    "            v_destino.inserir_adjacente(id_origem, custo)\n",
    "\n",
    "    def inserir_arestas(self, arestas):\n",
    "        for aresta in arestas:\n",
    "            self.inserir_aresta(*aresta)\n",
    "    def imprimir(self, rotulo):\n",
    "        ids_ordenados = sorted(self._vertices.key())\n",
    "        print('')\n",
    "        print('{} - Matriz'.format(rotulo))\n",
    "        print('\\t' + '\\t'.join(ids_ordenados))\n",
    "        for i in ids_ordenados:\n",
    "            vertice = self.obter_vertice(i)\n",
    "            print(i, end='\\t')\n",
    "            for j in ids_ordenados:\n",
    "                custo = vertice.obter_custo(j) or 0\n",
    "                print(custo, end='\\t')\n",
    "            print('i')\n",
    "        print('')\n",
    "        print('{} - Lista de adjacencia'.format(rotulo))\n",
    "        for i in ids_ordenados:\n",
    "            vertice = self.obter_vertice(i)\n",
    "            print('| {} |'.format(i), end='')\n",
    "            for j in ids_ordenados:\n",
    "                custo = vertice.obter_custo(j) or \"\n",
    "                if custo:\n",
    "                    apresentacao_custo = \"\"\n",
    "                    if self.valorado:\n",
    "                        apresentacao_custo = \"| {}\".format(custo)\n",
    "                    print(\"->[{}{}]\".format(j, apresentacao_custo, end=\"\"))\n",
    "            print('')\n",
    "class Vertice:\n",
    "    def __init__(self, id, valorado=False):\n",
    "        self.id = id\n",
    "        self._vizinhos = dict()\n",
    "        self._valorado = valorado\n",
    "    \n",
    "    @property\n",
    "    def ids_adjacentes(self):\n",
    "        return self._vizinhos.keys()\n",
    "    \n",
    "    def obter_custo(self, id_vizinho):\n",
    "        if self._valorado:\n",
    "            return self.vizinhos.get(id_vizinho)\n",
    "        else:\n",
    "            return self._vizinhos.get(id_vizinho) or 0"
   ]
  },
  {
   "cell_type": "code",
   "execution_count": null,
   "metadata": {},
   "outputs": [],
   "source": []
  }
 ],
 "metadata": {
  "kernelspec": {
   "display_name": ".venv",
   "language": "python",
   "name": "python3"
  },
  "language_info": {
   "codemirror_mode": {
    "name": "ipython",
    "version": 3
   },
   "file_extension": ".py",
   "mimetype": "text/x-python",
   "name": "python",
   "nbconvert_exporter": "python",
   "pygments_lexer": "ipython3",
   "version": "3.8.10"
  },
  "orig_nbformat": 4
 },
 "nbformat": 4,
 "nbformat_minor": 2
}
