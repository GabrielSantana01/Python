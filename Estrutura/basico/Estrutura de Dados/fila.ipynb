{
 "cells": [
  {
   "cell_type": "markdown",
   "metadata": {},
   "source": [
    "## CONCEITO\n",
    "a fila é um tipo de ordernação de dados que consiste basicamente no fluxo de o primeiro item a entrar serar o primeiro a sair, e o ultimo item a entrar na fila sera o ultimo a sair. a lista tambem é conhecida como estrutura FIFO"
   ]
  },
  {
   "cell_type": "code",
   "execution_count": null,
   "metadata": {},
   "outputs": [],
   "source": [
    "# codigo de uma fila com POO\n",
    "\n",
    "#abaixo tem tipos de listas, e a fila é tambem um tipo de lista.\n",
    "minha_lista = [1, 2, 3, 4, 5]\n",
    "tupla = (1, 2, 3)\n",
    "dicionario = {\"A\": \"Abacate\",\"B\": \"Bola\",\"C\": \"Cachorro\"}\n"
   ]
  },
  {
   "cell_type": "code",
   "execution_count": 1,
   "metadata": {},
   "outputs": [],
   "source": [
    "from collections import deque\n",
    "# abaixo o uma classe com uma fila sendo implementada.\n",
    "class Dados:\n",
    "    def __init__(self):\n",
    "        self.itens = deque()\n",
    "    \n",
    "    def __repr__(self):# esse metodo serve como uma representação de string do objeto\n",
    "        return str(self.itens)\n",
    "    \n",
    "    def insere (self, valor):\n",
    "        self.itens.append(valor)\n",
    "    \n",
    "    def delete (self):\n",
    "        self.itens.popleft()\n",
    "    \n",
    "\n",
    "dados = Dados()\n",
    "dados.insere(1)\n",
    "dados.insere(2)\n",
    "dados.insere(3)\n",
    "dados.insere(4)\n",
    "print(dados)\n",
    "dados.delete()\n",
    "print(dados)\n",
    "        \n",
    "        \n",
    "# O código que verifica if __name__ == \"__main__\": garante que o bloco de código dentro de main() só será executado se o script \n",
    "# for executado diretamente, não quando ele for importado como um módulo em outro script. faz com que a classe so rode quando for instanciada e seus devidos metodos forem chamados diretamente.\n",
    "# isso evita que os metodos da classe sejam executado ja na importação por uma outra classe.       \n",
    "\n",
    "\n",
    "  "
   ]
  },
  {
   "cell_type": "code",
   "execution_count": null,
   "metadata": {},
   "outputs": [],
   "source": [
    "if __name__ == \"__main__\":\n",
    "    main()"
   ]
  },
  {
   "cell_type": "code",
   "execution_count": null,
   "metadata": {},
   "outputs": [],
   "source": []
  }
 ],
 "metadata": {
  "kernelspec": {
   "display_name": "Python 3",
   "language": "python",
   "name": "python3"
  },
  "language_info": {
   "codemirror_mode": {
    "name": "ipython",
    "version": 3
   },
   "file_extension": ".py",
   "mimetype": "text/x-python",
   "name": "python",
   "nbconvert_exporter": "python",
   "pygments_lexer": "ipython3",
   "version": "3.10.12"
  },
  "orig_nbformat": 4
 },
 "nbformat": 4,
 "nbformat_minor": 2
}
