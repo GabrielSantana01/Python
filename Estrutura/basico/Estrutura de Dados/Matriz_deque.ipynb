{
 "cells": [
  {
   "cell_type": "code",
   "execution_count": 2,
   "metadata": {},
   "outputs": [
    {
     "name": "stdout",
     "output_type": "stream",
     "text": [
      "[[10. 12.]\n",
      " [ 9.  3.]]\n"
     ]
    }
   ],
   "source": [
    "import numpy as np\n",
    "\n",
    "matriz_1 =  np.array([[7.0, 8.0],[5.0, 1.0]])\n",
    "matriz_2 = np.array([[3.0, 4.0],[4.0, 2.0]])\n",
    "\n",
    "# Soma de matrizes\n",
    "print(matriz_1 + matriz_2)\n",
    "\n"
   ]
  },
  {
   "cell_type": "code",
   "execution_count": 3,
   "metadata": {},
   "outputs": [
    {
     "name": "stdout",
     "output_type": "stream",
     "text": [
      "[[ 4.  4.]\n",
      " [ 1. -1.]]\n"
     ]
    }
   ],
   "source": [
    "# Subtração de matrizes\n",
    "print(matriz_1 - matriz_2)\n"
   ]
  },
  {
   "cell_type": "code",
   "execution_count": 4,
   "metadata": {},
   "outputs": [
    {
     "name": "stdout",
     "output_type": "stream",
     "text": [
      "[[21. 32.]\n",
      " [20.  2.]]\n"
     ]
    }
   ],
   "source": [
    "# Multiplicação de Matrizes\n",
    "print(matriz_1 * matriz_2)\n"
   ]
  },
  {
   "cell_type": "code",
   "execution_count": 5,
   "metadata": {},
   "outputs": [
    {
     "name": "stdout",
     "output_type": "stream",
     "text": [
      "[[2.33333333 2.        ]\n",
      " [1.25       0.5       ]]\n"
     ]
    }
   ],
   "source": [
    "# Divisão de Matrizes\n",
    "print(matriz_1 / matriz_2)"
   ]
  },
  {
   "cell_type": "code",
   "execution_count": 10,
   "metadata": {},
   "outputs": [
    {
     "data": {
      "text/plain": [
       "deque(['Dom', 'Seg', 'Ter', 'Qua', 'Qui', 'Sex', 'Sab'])"
      ]
     },
     "execution_count": 10,
     "metadata": {},
     "output_type": "execute_result"
    }
   ],
   "source": [
    "import collections\n",
    "\n",
    "dias_da_semana = collections.deque([\"Dom\",\"Seg\",\"Ter\",\"Qua\",\"Qui\",\"Sex\",\"Sab\"])\n",
    "dias_da_semana"
   ]
  },
  {
   "cell_type": "code",
   "execution_count": 11,
   "metadata": {},
   "outputs": [
    {
     "data": {
      "text/plain": [
       "deque(['Dom', 'Seg', 'Ter', 'Qua', 'Qui', 'Sex', 'Sab', 'Janeiro'])"
      ]
     },
     "execution_count": 11,
     "metadata": {},
     "output_type": "execute_result"
    }
   ],
   "source": [
    "dias_da_semana.append(\"Janeiro\")\n",
    "dias_da_semana"
   ]
  },
  {
   "cell_type": "code",
   "execution_count": 12,
   "metadata": {},
   "outputs": [
    {
     "data": {
      "text/plain": [
       "deque(['Seg', 'Ter', 'Qua', 'Qui', 'Sex', 'Sab', 'Janeiro'])"
      ]
     },
     "execution_count": 12,
     "metadata": {},
     "output_type": "execute_result"
    }
   ],
   "source": [
    "dias_da_semana.popleft()\n",
    "dias_da_semana"
   ]
  },
  {
   "cell_type": "code",
   "execution_count": 13,
   "metadata": {},
   "outputs": [
    {
     "data": {
      "text/plain": [
       "deque(['Seg', 'Ter', 'Qua', 'Qui', 'Sex', 'Sab'])"
      ]
     },
     "execution_count": 13,
     "metadata": {},
     "output_type": "execute_result"
    }
   ],
   "source": [
    "dias_da_semana.pop()\n",
    "dias_da_semana"
   ]
  },
  {
   "cell_type": "code",
   "execution_count": 14,
   "metadata": {},
   "outputs": [
    {
     "data": {
      "text/plain": [
       "deque(['Dom', 'Seg', 'Ter', 'Qua', 'Qui', 'Sex', 'Sab'])"
      ]
     },
     "execution_count": 14,
     "metadata": {},
     "output_type": "execute_result"
    }
   ],
   "source": [
    "dias_da_semana.appendleft(\"Dom\")\n",
    "dias_da_semana"
   ]
  }
 ],
 "metadata": {
  "kernelspec": {
   "display_name": "Python 3",
   "language": "python",
   "name": "python3"
  },
  "language_info": {
   "codemirror_mode": {
    "name": "ipython",
    "version": 3
   },
   "file_extension": ".py",
   "mimetype": "text/x-python",
   "name": "python",
   "nbconvert_exporter": "python",
   "pygments_lexer": "ipython3",
   "version": "3.10.12"
  },
  "orig_nbformat": 4
 },
 "nbformat": 4,
 "nbformat_minor": 2
}
