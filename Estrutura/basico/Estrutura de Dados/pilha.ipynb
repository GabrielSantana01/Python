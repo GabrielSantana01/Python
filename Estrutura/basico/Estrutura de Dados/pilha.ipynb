{
 "cells": [
  {
   "cell_type": "markdown",
   "metadata": {},
   "source": [
    "## CONCEITO\n",
    "\n",
    "a pilha tem o conseito de organização dos Dados de tal forma que o primeiro item a entrar seria o ultimo item a sair, essa estrutura tambem é conhecido como LIFO (Last in, First Out) "
   ]
  },
  {
   "cell_type": "code",
   "execution_count": null,
   "metadata": {},
   "outputs": [],
   "source": [
    "class Pilha:\n",
    "    def __init__(self):\n",
    "        self.itens = []\n",
    "    \n",
    "    def __repr__(self):\n",
    "        return str(self.itens)\n",
    "    \n",
    "    def empilha(self, valor):\n",
    "        self.itens.append(valor)\n",
    "    \n",
    "    def desempilhar(self):\n",
    "        assert self.itens , \"Erro: Pilha vazia.\" # a estrutura geral do assert assert expressão,\n",
    "        #mensagem_de_erro.(ele server para gerar uma exceção 'AssertionError' caso a afirmação seja falsa)\n",
    "        return self.itens.pop()\n",
    "    def main():\n",
    "        pilha = Pilha()\n",
    "        pilha.empilha(1)\n",
    "        pilha.desempilhar()\n",
    "\n",
    "if __name__ == \"__main__\":\n",
    "    main()"
   ]
  }
 ],
 "metadata": {
  "language_info": {
   "name": "python"
  },
  "orig_nbformat": 4
 },
 "nbformat": 4,
 "nbformat_minor": 2
}
