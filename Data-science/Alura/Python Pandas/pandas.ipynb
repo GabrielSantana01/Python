{
 "cells": [
  {
   "cell_type": "code",
   "execution_count": 8,
   "id": "87c5bc76",
   "metadata": {},
   "outputs": [],
   "source": [
    "import pandas as pd\n",
    "pd.set_option('display.max_rows',10)"
   ]
  },
  {
   "cell_type": "code",
   "execution_count": 13,
   "id": "68a985d3",
   "metadata": {},
   "outputs": [
    {
     "data": {
      "text/html": [
       "<div>\n",
       "<style scoped>\n",
       "    .dataframe tbody tr th:only-of-type {\n",
       "        vertical-align: middle;\n",
       "    }\n",
       "\n",
       "    .dataframe tbody tr th {\n",
       "        vertical-align: top;\n",
       "    }\n",
       "\n",
       "    .dataframe thead th {\n",
       "        text-align: right;\n",
       "    }\n",
       "</style>\n",
       "<table border=\"1\" class=\"dataframe\">\n",
       "  <thead>\n",
       "    <tr style=\"text-align: right;\">\n",
       "      <th></th>\n",
       "      <th>Nome</th>\n",
       "      <th>Motor</th>\n",
       "      <th>Ano</th>\n",
       "      <th>Quilometragem</th>\n",
       "      <th>Zero_km</th>\n",
       "      <th>Acessórios</th>\n",
       "      <th>Valor</th>\n",
       "    </tr>\n",
       "  </thead>\n",
       "  <tbody>\n",
       "    <tr>\n",
       "      <th>0</th>\n",
       "      <td>Jetta Variant</td>\n",
       "      <td>Motor 4.0 Turbo</td>\n",
       "      <td>2003</td>\n",
       "      <td>44410.0</td>\n",
       "      <td>False</td>\n",
       "      <td>['Rodas de liga', 'Travas elétricas', 'Piloto ...</td>\n",
       "      <td>88078.64</td>\n",
       "    </tr>\n",
       "    <tr>\n",
       "      <th>1</th>\n",
       "      <td>Passat</td>\n",
       "      <td>Motor Diesel</td>\n",
       "      <td>1991</td>\n",
       "      <td>5712.0</td>\n",
       "      <td>False</td>\n",
       "      <td>['Central multimídia', 'Teto panorâmico', 'Fre...</td>\n",
       "      <td>106161.94</td>\n",
       "    </tr>\n",
       "    <tr>\n",
       "      <th>2</th>\n",
       "      <td>Crossfox</td>\n",
       "      <td>Motor Diesel V8</td>\n",
       "      <td>1990</td>\n",
       "      <td>37123.0</td>\n",
       "      <td>False</td>\n",
       "      <td>['Piloto automático', 'Controle de estabilidad...</td>\n",
       "      <td>72832.16</td>\n",
       "    </tr>\n",
       "    <tr>\n",
       "      <th>3</th>\n",
       "      <td>DS5</td>\n",
       "      <td>Motor 2.4 Turbo</td>\n",
       "      <td>2019</td>\n",
       "      <td>NaN</td>\n",
       "      <td>True</td>\n",
       "      <td>['Travas elétricas', '4 X 4', 'Vidros elétrico...</td>\n",
       "      <td>124549.07</td>\n",
       "    </tr>\n",
       "    <tr>\n",
       "      <th>4</th>\n",
       "      <td>Aston Martin DB4</td>\n",
       "      <td>Motor 2.4 Turbo</td>\n",
       "      <td>2006</td>\n",
       "      <td>25757.0</td>\n",
       "      <td>False</td>\n",
       "      <td>['Rodas de liga', '4 X 4', 'Central multimídia...</td>\n",
       "      <td>92612.10</td>\n",
       "    </tr>\n",
       "    <tr>\n",
       "      <th>...</th>\n",
       "      <td>...</td>\n",
       "      <td>...</td>\n",
       "      <td>...</td>\n",
       "      <td>...</td>\n",
       "      <td>...</td>\n",
       "      <td>...</td>\n",
       "      <td>...</td>\n",
       "    </tr>\n",
       "    <tr>\n",
       "      <th>253</th>\n",
       "      <td>Phantom 2013</td>\n",
       "      <td>Motor V8</td>\n",
       "      <td>2014</td>\n",
       "      <td>27505.0</td>\n",
       "      <td>False</td>\n",
       "      <td>['Controle de estabilidade', 'Piloto automátic...</td>\n",
       "      <td>51759.58</td>\n",
       "    </tr>\n",
       "    <tr>\n",
       "      <th>254</th>\n",
       "      <td>Cadillac Ciel concept</td>\n",
       "      <td>Motor V8</td>\n",
       "      <td>1991</td>\n",
       "      <td>29981.0</td>\n",
       "      <td>False</td>\n",
       "      <td>['Bancos de couro', 'Painel digital', 'Sensor ...</td>\n",
       "      <td>51667.06</td>\n",
       "    </tr>\n",
       "    <tr>\n",
       "      <th>255</th>\n",
       "      <td>Classe GLK</td>\n",
       "      <td>Motor 5.0 V8 Bi-Turbo</td>\n",
       "      <td>2002</td>\n",
       "      <td>52637.0</td>\n",
       "      <td>False</td>\n",
       "      <td>['Rodas de liga', 'Controle de tração', 'Câmbi...</td>\n",
       "      <td>68934.03</td>\n",
       "    </tr>\n",
       "    <tr>\n",
       "      <th>256</th>\n",
       "      <td>Aston Martin DB5</td>\n",
       "      <td>Motor Diesel</td>\n",
       "      <td>1996</td>\n",
       "      <td>7685.0</td>\n",
       "      <td>False</td>\n",
       "      <td>['Ar condicionado', '4 X 4', 'Câmbio automátic...</td>\n",
       "      <td>122110.90</td>\n",
       "    </tr>\n",
       "    <tr>\n",
       "      <th>257</th>\n",
       "      <td>Macan</td>\n",
       "      <td>Motor Diesel V6</td>\n",
       "      <td>1992</td>\n",
       "      <td>50188.0</td>\n",
       "      <td>False</td>\n",
       "      <td>['Central multimídia', 'Teto panorâmico', 'Vid...</td>\n",
       "      <td>90381.47</td>\n",
       "    </tr>\n",
       "  </tbody>\n",
       "</table>\n",
       "<p>258 rows × 7 columns</p>\n",
       "</div>"
      ],
      "text/plain": [
       "                      Nome                  Motor   Ano  Quilometragem  \\\n",
       "0            Jetta Variant        Motor 4.0 Turbo  2003        44410.0   \n",
       "1                   Passat           Motor Diesel  1991         5712.0   \n",
       "2                 Crossfox        Motor Diesel V8  1990        37123.0   \n",
       "3                      DS5        Motor 2.4 Turbo  2019            NaN   \n",
       "4         Aston Martin DB4        Motor 2.4 Turbo  2006        25757.0   \n",
       "..                     ...                    ...   ...            ...   \n",
       "253           Phantom 2013               Motor V8  2014        27505.0   \n",
       "254  Cadillac Ciel concept               Motor V8  1991        29981.0   \n",
       "255             Classe GLK  Motor 5.0 V8 Bi-Turbo  2002        52637.0   \n",
       "256       Aston Martin DB5           Motor Diesel  1996         7685.0   \n",
       "257                  Macan        Motor Diesel V6  1992        50188.0   \n",
       "\n",
       "     Zero_km                                         Acessórios      Valor  \n",
       "0      False  ['Rodas de liga', 'Travas elétricas', 'Piloto ...   88078.64  \n",
       "1      False  ['Central multimídia', 'Teto panorâmico', 'Fre...  106161.94  \n",
       "2      False  ['Piloto automático', 'Controle de estabilidad...   72832.16  \n",
       "3       True  ['Travas elétricas', '4 X 4', 'Vidros elétrico...  124549.07  \n",
       "4      False  ['Rodas de liga', '4 X 4', 'Central multimídia...   92612.10  \n",
       "..       ...                                                ...        ...  \n",
       "253    False  ['Controle de estabilidade', 'Piloto automátic...   51759.58  \n",
       "254    False  ['Bancos de couro', 'Painel digital', 'Sensor ...   51667.06  \n",
       "255    False  ['Rodas de liga', 'Controle de tração', 'Câmbi...   68934.03  \n",
       "256    False  ['Ar condicionado', '4 X 4', 'Câmbio automátic...  122110.90  \n",
       "257    False  ['Central multimídia', 'Teto panorâmico', 'Vid...   90381.47  \n",
       "\n",
       "[258 rows x 7 columns]"
      ]
     },
     "execution_count": 13,
     "metadata": {},
     "output_type": "execute_result"
    }
   ],
   "source": [
    "df = pd.read_csv('C:/Users/gabri/Documents/python/Data-science/Alura/Python Pandas/Pandas/data/db.csv', sep = ';')\n",
    "#df.head(20)\n",
    "#df.dtypes\n",
    "df"
   ]
  },
  {
   "cell_type": "code",
   "execution_count": 15,
   "id": "e7f8850d",
   "metadata": {},
   "outputs": [
    {
     "data": {
      "text/html": [
       "<div>\n",
       "<style scoped>\n",
       "    .dataframe tbody tr th:only-of-type {\n",
       "        vertical-align: middle;\n",
       "    }\n",
       "\n",
       "    .dataframe tbody tr th {\n",
       "        vertical-align: top;\n",
       "    }\n",
       "\n",
       "    .dataframe thead th {\n",
       "        text-align: right;\n",
       "    }\n",
       "</style>\n",
       "<table border=\"1\" class=\"dataframe\">\n",
       "  <thead>\n",
       "    <tr style=\"text-align: right;\">\n",
       "      <th></th>\n",
       "      <th>Quilometragem</th>\n",
       "      <th>Valor</th>\n",
       "    </tr>\n",
       "  </thead>\n",
       "  <tbody>\n",
       "    <tr>\n",
       "      <th>count</th>\n",
       "      <td>197.000000</td>\n",
       "      <td>258.000000</td>\n",
       "    </tr>\n",
       "    <tr>\n",
       "      <th>mean</th>\n",
       "      <td>58278.421320</td>\n",
       "      <td>98960.513101</td>\n",
       "    </tr>\n",
       "    <tr>\n",
       "      <th>std</th>\n",
       "      <td>35836.733259</td>\n",
       "      <td>29811.932305</td>\n",
       "    </tr>\n",
       "    <tr>\n",
       "      <th>min</th>\n",
       "      <td>107.000000</td>\n",
       "      <td>50742.100000</td>\n",
       "    </tr>\n",
       "    <tr>\n",
       "      <th>25%</th>\n",
       "      <td>27505.000000</td>\n",
       "      <td>70743.512500</td>\n",
       "    </tr>\n",
       "    <tr>\n",
       "      <th>50%</th>\n",
       "      <td>55083.000000</td>\n",
       "      <td>97724.380000</td>\n",
       "    </tr>\n",
       "    <tr>\n",
       "      <th>75%</th>\n",
       "      <td>90495.000000</td>\n",
       "      <td>124633.302500</td>\n",
       "    </tr>\n",
       "    <tr>\n",
       "      <th>max</th>\n",
       "      <td>119945.000000</td>\n",
       "      <td>149489.920000</td>\n",
       "    </tr>\n",
       "  </tbody>\n",
       "</table>\n",
       "</div>"
      ],
      "text/plain": [
       "       Quilometragem          Valor\n",
       "count     197.000000     258.000000\n",
       "mean    58278.421320   98960.513101\n",
       "std     35836.733259   29811.932305\n",
       "min       107.000000   50742.100000\n",
       "25%     27505.000000   70743.512500\n",
       "50%     55083.000000   97724.380000\n",
       "75%     90495.000000  124633.302500\n",
       "max    119945.000000  149489.920000"
      ]
     },
     "execution_count": 15,
     "metadata": {},
     "output_type": "execute_result"
    }
   ],
   "source": [
    "df[['Quilometragem','Valor']].describe()"
   ]
  },
  {
   "cell_type": "code",
   "execution_count": null,
   "id": "52ae89f4",
   "metadata": {},
   "outputs": [],
   "source": []
  },
  {
   "cell_type": "code",
   "execution_count": 16,
   "id": "78b60d03",
   "metadata": {},
   "outputs": [
    {
     "name": "stdout",
     "output_type": "stream",
     "text": [
      "<class 'pandas.core.frame.DataFrame'>\n",
      "RangeIndex: 258 entries, 0 to 257\n",
      "Data columns (total 7 columns):\n",
      " #   Column         Non-Null Count  Dtype  \n",
      "---  ------         --------------  -----  \n",
      " 0   Nome           258 non-null    object \n",
      " 1   Motor          258 non-null    object \n",
      " 2   Ano            258 non-null    int64  \n",
      " 3   Quilometragem  197 non-null    float64\n",
      " 4   Zero_km        258 non-null    bool   \n",
      " 5   Acessórios     258 non-null    object \n",
      " 6   Valor          258 non-null    float64\n",
      "dtypes: bool(1), float64(2), int64(1), object(3)\n",
      "memory usage: 12.5+ KB\n"
     ]
    }
   ],
   "source": [
    "df.info()"
   ]
  },
  {
   "cell_type": "markdown",
   "id": "8ddedfc2",
   "metadata": {},
   "source": [
    "## Tupla"
   ]
  },
  {
   "cell_type": "code",
   "execution_count": 24,
   "id": "d947bb74",
   "metadata": {},
   "outputs": [
    {
     "data": {
      "text/plain": [
       "('Gabriel', 'Renã', 'Rauã', 'Gleice', 'Ayla', ('Saulo', 'Cristiano', 'Maria'))"
      ]
     },
     "execution_count": 24,
     "metadata": {},
     "output_type": "execute_result"
    }
   ],
   "source": [
    "#tupla() tabalha com paranteses\n",
    "#nome = tuple(['Gabriel','Renã','Rauã','Gleice','Ayla'])\n",
    "nome = ('Gabriel','Renã','Rauã','Gleice','Ayla',('Saulo','Cristiano','Maria'))\n",
    "nome"
   ]
  },
  {
   "cell_type": "code",
   "execution_count": 20,
   "id": "dfeb3cfc",
   "metadata": {},
   "outputs": [
    {
     "data": {
      "text/plain": [
       "tuple"
      ]
     },
     "execution_count": 20,
     "metadata": {},
     "output_type": "execute_result"
    }
   ],
   "source": [
    "type(nome)"
   ]
  },
  {
   "cell_type": "code",
   "execution_count": 21,
   "id": "24391ac2",
   "metadata": {},
   "outputs": [
    {
     "data": {
      "text/plain": [
       "'Gabriel'"
      ]
     },
     "execution_count": 21,
     "metadata": {},
     "output_type": "execute_result"
    }
   ],
   "source": [
    "nome[0]"
   ]
  },
  {
   "cell_type": "code",
   "execution_count": 25,
   "id": "b7bc7e2c",
   "metadata": {},
   "outputs": [
    {
     "data": {
      "text/plain": [
       "('Saulo', 'Cristiano', 'Maria')"
      ]
     },
     "execution_count": 25,
     "metadata": {},
     "output_type": "execute_result"
    }
   ],
   "source": [
    "nome[-1]"
   ]
  },
  {
   "cell_type": "code",
   "execution_count": 26,
   "id": "2af477ec",
   "metadata": {},
   "outputs": [
    {
     "data": {
      "text/plain": [
       "'Cristiano'"
      ]
     },
     "execution_count": 26,
     "metadata": {},
     "output_type": "execute_result"
    }
   ],
   "source": [
    "nome[-1][1]"
   ]
  },
  {
   "cell_type": "code",
   "execution_count": 28,
   "id": "6425431d",
   "metadata": {},
   "outputs": [
    {
     "data": {
      "text/plain": [
       "(('Jetta Variant',\n",
       "  'Motor 4.0 Turbo',\n",
       "  2003,\n",
       "  False,\n",
       "  ('Rodas de liga', 'Travas elétricas', 'Piloto automático')),\n",
       " ('Passat',\n",
       "  'Motor Diesel',\n",
       "  1991,\n",
       "  True,\n",
       "  ('Central multimídia', 'Teto panorâmico', 'Freios ABS')))"
      ]
     },
     "execution_count": 28,
     "metadata": {},
     "output_type": "execute_result"
    }
   ],
   "source": [
    "carros = (\n",
    "    (\n",
    "        'Jetta Variant',\n",
    "        'Motor 4.0 Turbo',\n",
    "        2003,\n",
    "        False,\n",
    "        ('Rodas de liga', 'Travas elétricas', 'Piloto automático')\n",
    "    ),\n",
    "    (\n",
    "        'Passat',\n",
    "        'Motor Diesel',\n",
    "        1991,\n",
    "        True,\n",
    "        ('Central multimídia', 'Teto panorâmico', 'Freios ABS')\n",
    "    )\n",
    ")\n",
    "carros"
   ]
  },
  {
   "cell_type": "code",
   "execution_count": 29,
   "id": "4ae37e5d",
   "metadata": {},
   "outputs": [
    {
     "data": {
      "text/plain": [
       "False"
      ]
     },
     "execution_count": 29,
     "metadata": {},
     "output_type": "execute_result"
    }
   ],
   "source": [
    "carros[0][3]"
   ]
  },
  {
   "cell_type": "code",
   "execution_count": 30,
   "id": "6634dda1",
   "metadata": {},
   "outputs": [
    {
     "data": {
      "text/plain": [
       "'Freios ABS'"
      ]
     },
     "execution_count": 30,
     "metadata": {},
     "output_type": "execute_result"
    }
   ],
   "source": [
    "carros[-1][-1][-1]"
   ]
  },
  {
   "cell_type": "code",
   "execution_count": 31,
   "id": "18ba633a",
   "metadata": {},
   "outputs": [
    {
     "data": {
      "text/plain": [
       "('Rodas de liga', 'Travas elétricas')"
      ]
     },
     "execution_count": 31,
     "metadata": {},
     "output_type": "execute_result"
    }
   ],
   "source": [
    "carros[0][-1][:2]"
   ]
  },
  {
   "cell_type": "code",
   "execution_count": 32,
   "id": "b347e6f6",
   "metadata": {},
   "outputs": [],
   "source": [
    "nome_carro = ('Jetta Variant', 'Passat', 'Crossfox','DS5')\n",
    "carro01, carro02, carro03, carro04 = nome_carro\n"
   ]
  },
  {
   "cell_type": "code",
   "execution_count": 33,
   "id": "89e7b356",
   "metadata": {},
   "outputs": [
    {
     "data": {
      "text/plain": [
       "'Jetta Variant'"
      ]
     },
     "execution_count": 33,
     "metadata": {},
     "output_type": "execute_result"
    }
   ],
   "source": [
    "carro01"
   ]
  },
  {
   "cell_type": "code",
   "execution_count": 34,
   "id": "1cf42f26",
   "metadata": {},
   "outputs": [
    {
     "data": {
      "text/plain": [
       "'Passat'"
      ]
     },
     "execution_count": 34,
     "metadata": {},
     "output_type": "execute_result"
    }
   ],
   "source": [
    "carro02"
   ]
  },
  {
   "cell_type": "code",
   "execution_count": 35,
   "id": "aa454fd8",
   "metadata": {},
   "outputs": [
    {
     "data": {
      "text/plain": [
       "'Crossfox'"
      ]
     },
     "execution_count": 35,
     "metadata": {},
     "output_type": "execute_result"
    }
   ],
   "source": [
    "carro03"
   ]
  },
  {
   "cell_type": "code",
   "execution_count": 36,
   "id": "15fdd5bd",
   "metadata": {},
   "outputs": [
    {
     "data": {
      "text/plain": [
       "'DS5'"
      ]
     },
     "execution_count": 36,
     "metadata": {},
     "output_type": "execute_result"
    }
   ],
   "source": [
    "carro04"
   ]
  },
  {
   "cell_type": "code",
   "execution_count": 37,
   "id": "4ec2c2bd",
   "metadata": {},
   "outputs": [
    {
     "data": {
      "text/plain": [
       "'DS5'"
      ]
     },
     "execution_count": 37,
     "metadata": {},
     "output_type": "execute_result"
    }
   ],
   "source": [
    "_#andescope da pra ser usado para salvar um ultimo valor e para ignorrar um item da lista"
   ]
  },
  {
   "cell_type": "code",
   "execution_count": 39,
   "id": "4d67c41c",
   "metadata": {},
   "outputs": [],
   "source": [
    "_,C,*_=nome_carro"
   ]
  },
  {
   "cell_type": "code",
   "execution_count": 40,
   "id": "a2c6d0f4",
   "metadata": {},
   "outputs": [
    {
     "data": {
      "text/plain": [
       "'Passat'"
      ]
     },
     "execution_count": 40,
     "metadata": {},
     "output_type": "execute_result"
    }
   ],
   "source": [
    "C"
   ]
  },
  {
   "cell_type": "markdown",
   "id": "663e0270",
   "metadata": {},
   "source": [
    "## zip()"
   ]
  },
  {
   "cell_type": "code",
   "execution_count": 41,
   "id": "038193b6",
   "metadata": {},
   "outputs": [],
   "source": [
    "nome_carro = ('Jetta Variant', 'Passat', 'Crossfox','DS5')\n",
    "valor_carro = (50000.00, 100000.00, 150000.00, 200000.00)"
   ]
  },
  {
   "cell_type": "code",
   "execution_count": 42,
   "id": "3b7f97f9",
   "metadata": {},
   "outputs": [
    {
     "data": {
      "text/plain": [
       "<zip at 0x2488cef3e80>"
      ]
     },
     "execution_count": 42,
     "metadata": {},
     "output_type": "execute_result"
    }
   ],
   "source": [
    "zip(nome_carro, valor_carro)"
   ]
  },
  {
   "cell_type": "code",
   "execution_count": 43,
   "id": "e724923e",
   "metadata": {},
   "outputs": [
    {
     "data": {
      "text/plain": [
       "[('Jetta Variant', 50000.0),\n",
       " ('Passat', 100000.0),\n",
       " ('Crossfox', 150000.0),\n",
       " ('DS5', 200000.0)]"
      ]
     },
     "execution_count": 43,
     "metadata": {},
     "output_type": "execute_result"
    }
   ],
   "source": [
    "list(zip(nome_carro, valor_carro))"
   ]
  },
  {
   "cell_type": "code",
   "execution_count": 44,
   "id": "584765c7",
   "metadata": {},
   "outputs": [
    {
     "name": "stdout",
     "output_type": "stream",
     "text": [
      "('Jetta Variant', 50000.0)\n",
      "('Passat', 100000.0)\n",
      "('Crossfox', 150000.0)\n",
      "('DS5', 200000.0)\n"
     ]
    }
   ],
   "source": [
    "for itens in zip(nome_carro, valor_carro):\n",
    "    print(itens)"
   ]
  },
  {
   "cell_type": "code",
   "execution_count": 48,
   "id": "18aeaef3",
   "metadata": {},
   "outputs": [
    {
     "name": "stdout",
     "output_type": "stream",
     "text": [
      "DS5 200000.0\n"
     ]
    }
   ],
   "source": [
    "for nome, valor in zip(nome_carro, valor_carro):\n",
    "    if valor > 100000:\n",
    "        if 'D'in nome:\n",
    "            print(nome, valor)"
   ]
  },
  {
   "cell_type": "code",
   "execution_count": 49,
   "id": "5f4c399d",
   "metadata": {},
   "outputs": [
    {
     "data": {
      "text/plain": [
       "(('Jetta Variant',\n",
       "  'Motor 4.0 Turbo',\n",
       "  2003,\n",
       "  False,\n",
       "  ('Rodas de liga', 'Travas elétricas', 'Piloto automático')),\n",
       " ('Passat',\n",
       "  'Motor Diesel',\n",
       "  1991,\n",
       "  True,\n",
       "  ('Central multimídia', 'Teto panorâmico', 'Freios ABS')))"
      ]
     },
     "execution_count": 49,
     "metadata": {},
     "output_type": "execute_result"
    }
   ],
   "source": [
    "carros = (\n",
    "    (\n",
    "        'Jetta Variant',\n",
    "        'Motor 4.0 Turbo',\n",
    "        2003,\n",
    "        False,\n",
    "        ('Rodas de liga', 'Travas elétricas', 'Piloto automático')\n",
    "    ),\n",
    "    (\n",
    "        'Passat',\n",
    "        'Motor Diesel',\n",
    "        1991,\n",
    "        True,\n",
    "        ('Central multimídia', 'Teto panorâmico', 'Freios ABS')\n",
    "    )\n",
    ")\n",
    "carros"
   ]
  },
  {
   "cell_type": "code",
   "execution_count": 51,
   "id": "f36e7137",
   "metadata": {},
   "outputs": [
    {
     "name": "stdout",
     "output_type": "stream",
     "text": [
      "Rodas de liga\n",
      "Travas elétricas\n",
      "Piloto automático\n",
      "Central multimídia\n",
      "Teto panorâmico\n",
      "Freios ABS\n"
     ]
    }
   ],
   "source": [
    "for acessorios in carros:\n",
    "    for item in acessorios[-1]:\n",
    "        print(item)"
   ]
  },
  {
   "cell_type": "markdown",
   "id": "14076a69",
   "metadata": {},
   "source": [
    "## dicionarios"
   ]
  },
  {
   "cell_type": "code",
   "execution_count": 53,
   "id": "c53ec952",
   "metadata": {},
   "outputs": [],
   "source": [
    "#dict={}"
   ]
  },
  {
   "cell_type": "code",
   "execution_count": 94,
   "id": "155589ab",
   "metadata": {},
   "outputs": [],
   "source": [
    "dados = {'Jetta Variant':50000.00,'Passat':100000.00,'Crossfox':150000.00,'DS5':200000.00}"
   ]
  },
  {
   "cell_type": "code",
   "execution_count": 95,
   "id": "afd038af",
   "metadata": {},
   "outputs": [
    {
     "data": {
      "text/plain": [
       "{'Jetta Variant': 50000.0,\n",
       " 'Passat': 100000.0,\n",
       " 'Crossfox': 150000.0,\n",
       " 'DS5': 200000.0}"
      ]
     },
     "execution_count": 95,
     "metadata": {},
     "output_type": "execute_result"
    }
   ],
   "source": [
    "dados"
   ]
  },
  {
   "cell_type": "code",
   "execution_count": 96,
   "id": "ca7f4218",
   "metadata": {},
   "outputs": [
    {
     "data": {
      "text/plain": [
       "100000.0"
      ]
     },
     "execution_count": 96,
     "metadata": {},
     "output_type": "execute_result"
    }
   ],
   "source": [
    "dados['Passat']"
   ]
  },
  {
   "cell_type": "code",
   "execution_count": 97,
   "id": "4dd77029",
   "metadata": {},
   "outputs": [
    {
     "data": {
      "text/plain": [
       "True"
      ]
     },
     "execution_count": 97,
     "metadata": {},
     "output_type": "execute_result"
    }
   ],
   "source": [
    "'Passat' in dados"
   ]
  },
  {
   "cell_type": "code",
   "execution_count": 98,
   "id": "2841a5fb",
   "metadata": {},
   "outputs": [
    {
     "data": {
      "text/plain": [
       "4"
      ]
     },
     "execution_count": 98,
     "metadata": {},
     "output_type": "execute_result"
    }
   ],
   "source": [
    "len(dados)"
   ]
  },
  {
   "cell_type": "code",
   "execution_count": 102,
   "id": "22c185f4",
   "metadata": {},
   "outputs": [],
   "source": [
    "# adicionando um novo item ao dicionario\n",
    "dados['PS5'] = 250000.00"
   ]
  },
  {
   "cell_type": "code",
   "execution_count": 103,
   "id": "38787473",
   "metadata": {},
   "outputs": [
    {
     "data": {
      "text/plain": [
       "{'Jetta Variant': 50000.0,\n",
       " 'Crossfox': 150000.0,\n",
       " 'DS5': 200000.0,\n",
       " 'PS5': 250000.0}"
      ]
     },
     "execution_count": 103,
     "metadata": {},
     "output_type": "execute_result"
    }
   ],
   "source": [
    "dados"
   ]
  },
  {
   "cell_type": "code",
   "execution_count": 104,
   "id": "9512398e",
   "metadata": {},
   "outputs": [
    {
     "ename": "KeyError",
     "evalue": "'Passat'",
     "output_type": "error",
     "traceback": [
      "\u001b[1;31m---------------------------------------------------------------------------\u001b[0m",
      "\u001b[1;31mKeyError\u001b[0m                                  Traceback (most recent call last)",
      "\u001b[1;32m~\\AppData\\Local\\Temp\\ipykernel_13252\\3998501061.py\u001b[0m in \u001b[0;36m<module>\u001b[1;34m\u001b[0m\n\u001b[1;32m----> 1\u001b[1;33m \u001b[1;32mdel\u001b[0m \u001b[0mdados\u001b[0m\u001b[1;33m[\u001b[0m\u001b[1;34m'Passat'\u001b[0m\u001b[1;33m]\u001b[0m\u001b[1;33m\u001b[0m\u001b[1;33m\u001b[0m\u001b[0m\n\u001b[0m\u001b[0;32m      2\u001b[0m \u001b[0mdados\u001b[0m\u001b[1;33m\u001b[0m\u001b[1;33m\u001b[0m\u001b[0m\n",
      "\u001b[1;31mKeyError\u001b[0m: 'Passat'"
     ]
    }
   ],
   "source": [
    "del dados['Passat']\n",
    "dados"
   ]
  },
  {
   "cell_type": "code",
   "execution_count": 88,
   "id": "60ed72a5",
   "metadata": {},
   "outputs": [
    {
     "data": {
      "text/plain": [
       "\"dados = {\\n    'Passat': {\\n        'ano': 2012,\\n        'km': 50000,\\n        'valor': 75000,\\n        'acessorios': ['Airbag', 'ABS']\\n    }, \\n    'Crossfox': {\\n        'ano': 2015,\\n        'km': 35000,\\n        'valor': 25000\\n    }\\n}\""
      ]
     },
     "execution_count": 88,
     "metadata": {},
     "output_type": "execute_result"
    }
   ],
   "source": [
    "'''dados = {\n",
    "    'Passat': {\n",
    "        'ano': 2012,\n",
    "        'km': 50000,\n",
    "        'valor': 75000,\n",
    "        'acessorios': ['Airbag', 'ABS']\n",
    "    }, \n",
    "    'Crossfox': {\n",
    "        'ano': 2015,\n",
    "        'km': 35000,\n",
    "        'valor': 25000\n",
    "    }\n",
    "}'''"
   ]
  },
  {
   "cell_type": "code",
   "execution_count": 105,
   "id": "068a1711",
   "metadata": {},
   "outputs": [
    {
     "data": {
      "text/plain": [
       "{'Jetta Variant': 50000.0,\n",
       " 'Crossfox': 150000.0,\n",
       " 'DS5': 200000.0,\n",
       " 'PS5': 250000.0}"
      ]
     },
     "execution_count": 105,
     "metadata": {},
     "output_type": "execute_result"
    }
   ],
   "source": [
    "dados"
   ]
  },
  {
   "cell_type": "code",
   "execution_count": 67,
   "id": "0aaf64cd",
   "metadata": {},
   "outputs": [
    {
     "data": {
      "text/plain": [
       "False"
      ]
     },
     "execution_count": 67,
     "metadata": {},
     "output_type": "execute_result"
    }
   ],
   "source": [
    "'acessorios' in dados['Crossfox']"
   ]
  },
  {
   "cell_type": "code",
   "execution_count": 68,
   "id": "f5772a71",
   "metadata": {},
   "outputs": [
    {
     "data": {
      "text/plain": [
       "True"
      ]
     },
     "execution_count": 68,
     "metadata": {},
     "output_type": "execute_result"
    }
   ],
   "source": [
    "'acessorios' in dados['Passat']"
   ]
  },
  {
   "cell_type": "code",
   "execution_count": 71,
   "id": "019106b9",
   "metadata": {},
   "outputs": [
    {
     "data": {
      "text/plain": [
       "25000"
      ]
     },
     "execution_count": 71,
     "metadata": {},
     "output_type": "execute_result"
    }
   ],
   "source": [
    "dados['Crossfox']['valor']"
   ]
  },
  {
   "cell_type": "code",
   "execution_count": 72,
   "id": "a74a0c4c",
   "metadata": {},
   "outputs": [
    {
     "data": {
      "text/plain": [
       "['Airbag', 'ABS']"
      ]
     },
     "execution_count": 72,
     "metadata": {},
     "output_type": "execute_result"
    }
   ],
   "source": [
    "dados['Passat']['acessorios']"
   ]
  },
  {
   "cell_type": "code",
   "execution_count": 73,
   "id": "cc4baace",
   "metadata": {},
   "outputs": [
    {
     "data": {
      "text/plain": [
       "'ABS'"
      ]
     },
     "execution_count": 73,
     "metadata": {},
     "output_type": "execute_result"
    }
   ],
   "source": [
    "dados['Passat']['acessorios'][-1]"
   ]
  },
  {
   "cell_type": "code",
   "execution_count": 107,
   "id": "12d70987",
   "metadata": {},
   "outputs": [],
   "source": [
    "dados.update({'Passat': 100000.0})"
   ]
  },
  {
   "cell_type": "code",
   "execution_count": 108,
   "id": "2f1dcac5",
   "metadata": {},
   "outputs": [
    {
     "data": {
      "text/plain": [
       "{'Jetta Variant': 50000.0,\n",
       " 'Crossfox': 150000.0,\n",
       " 'DS5': 200000.0,\n",
       " 'PS5': 250000.0,\n",
       " 'Passat': 100000.0}"
      ]
     },
     "execution_count": 108,
     "metadata": {},
     "output_type": "execute_result"
    }
   ],
   "source": [
    "dados"
   ]
  },
  {
   "cell_type": "code",
   "execution_count": 110,
   "id": "83925de5",
   "metadata": {},
   "outputs": [
    {
     "data": {
      "text/plain": [
       "{'Jetta Variant': 50000.0,\n",
       " 'Crossfox': 150000.0,\n",
       " 'DS5': 200000.0,\n",
       " 'PS5': 250000.0,\n",
       " 'Passat': 100000.0,\n",
       " 'Fusca': 300000.0}"
      ]
     },
     "execution_count": 110,
     "metadata": {},
     "output_type": "execute_result"
    }
   ],
   "source": [
    "dados.update({'Passat': 100000.0,'Fusca': 300000.0})\n",
    "dados"
   ]
  },
  {
   "cell_type": "code",
   "execution_count": 111,
   "id": "95f2b4a9",
   "metadata": {},
   "outputs": [],
   "source": [
    "dados2 = dados.copy()"
   ]
  },
  {
   "cell_type": "code",
   "execution_count": 112,
   "id": "2f076efb",
   "metadata": {},
   "outputs": [
    {
     "data": {
      "text/plain": [
       "{'Jetta Variant': 50000.0,\n",
       " 'Crossfox': 150000.0,\n",
       " 'DS5': 200000.0,\n",
       " 'PS5': 250000.0,\n",
       " 'Passat': 100000.0,\n",
       " 'Fusca': 300000.0}"
      ]
     },
     "execution_count": 112,
     "metadata": {},
     "output_type": "execute_result"
    }
   ],
   "source": [
    "dados2"
   ]
  },
  {
   "cell_type": "code",
   "execution_count": 113,
   "id": "5497e2d8",
   "metadata": {},
   "outputs": [
    {
     "data": {
      "text/plain": [
       "{'Jetta Variant': 50000.0,\n",
       " 'Crossfox': 150000.0,\n",
       " 'DS5': 200000.0,\n",
       " 'PS5': 250000.0,\n",
       " 'Fusca': 300000.0}"
      ]
     },
     "execution_count": 113,
     "metadata": {},
     "output_type": "execute_result"
    }
   ],
   "source": [
    "dados2.pop('Passat')\n",
    "dados2"
   ]
  },
  {
   "cell_type": "code",
   "execution_count": 116,
   "id": "59b9db5c",
   "metadata": {},
   "outputs": [
    {
     "data": {
      "text/plain": [
       "'Chave não encontrada'"
      ]
     },
     "execution_count": 116,
     "metadata": {},
     "output_type": "execute_result"
    }
   ],
   "source": [
    "dados2.pop('Passat','Chave não encontrada')"
   ]
  },
  {
   "cell_type": "code",
   "execution_count": 119,
   "id": "7ef692f8",
   "metadata": {},
   "outputs": [
    {
     "data": {
      "text/plain": [
       "{}"
      ]
     },
     "execution_count": 119,
     "metadata": {},
     "output_type": "execute_result"
    }
   ],
   "source": [
    "dados2.clear()\n",
    "dados2"
   ]
  },
  {
   "cell_type": "code",
   "execution_count": 120,
   "id": "47bd1320",
   "metadata": {},
   "outputs": [
    {
     "data": {
      "text/plain": [
       "dict_keys(['Jetta Variant', 'Crossfox', 'DS5', 'PS5', 'Passat', 'Fusca'])"
      ]
     },
     "execution_count": 120,
     "metadata": {},
     "output_type": "execute_result"
    }
   ],
   "source": [
    "dados.keys()"
   ]
  },
  {
   "cell_type": "code",
   "execution_count": 124,
   "id": "1ec343ee",
   "metadata": {},
   "outputs": [
    {
     "data": {
      "text/plain": [
       "dict_values([50000.0, 150000.0, 200000.0, 250000.0, 100000.0, 300000.0])"
      ]
     },
     "execution_count": 124,
     "metadata": {},
     "output_type": "execute_result"
    }
   ],
   "source": [
    "dados.values()"
   ]
  },
  {
   "cell_type": "code",
   "execution_count": 125,
   "id": "ca82507b",
   "metadata": {},
   "outputs": [
    {
     "data": {
      "text/plain": [
       "dict_items([('Jetta Variant', 50000.0), ('Crossfox', 150000.0), ('DS5', 200000.0), ('PS5', 250000.0), ('Passat', 100000.0), ('Fusca', 300000.0)])"
      ]
     },
     "execution_count": 125,
     "metadata": {},
     "output_type": "execute_result"
    }
   ],
   "source": [
    "dados.items()"
   ]
  },
  {
   "cell_type": "code",
   "execution_count": 127,
   "id": "86bbe08c",
   "metadata": {},
   "outputs": [
    {
     "name": "stdout",
     "output_type": "stream",
     "text": [
      "DS5\n",
      "PS5\n",
      "Fusca\n"
     ]
    }
   ],
   "source": [
    "for chave, valor in dados.items():\n",
    "    if valor > 150000:\n",
    "        print(chave)"
   ]
  },
  {
   "cell_type": "code",
   "execution_count": 142,
   "id": "7c2509fa",
   "metadata": {},
   "outputs": [
    {
     "data": {
      "text/plain": [
       "{'Crossfox': {'valor': 72000, 'ano': 2005},\n",
       " 'DS5': {'valor': 125000, 'ano': 2015},\n",
       " 'Fusca': {'valor': 150000, 'ano': 1976},\n",
       " 'Jetta': {'valor': 88000, 'ano': 2010},\n",
       " 'Passat': {'valor': 106000, 'ano': 1998}}"
      ]
     },
     "execution_count": 142,
     "metadata": {},
     "output_type": "execute_result"
    }
   ],
   "source": [
    "dados3 = {\n",
    "    'Crossfox': {'valor': 72000, 'ano': 2005}, \n",
    "    'DS5': {'valor': 125000, 'ano': 2015}, \n",
    "    'Fusca': {'valor': 150000, 'ano': 1976}, \n",
    "    'Jetta': {'valor': 88000, 'ano': 2010}, \n",
    "    'Passat': {'valor': 106000, 'ano': 1998}\n",
    "}\n",
    "dados3"
   ]
  },
  {
   "cell_type": "code",
   "execution_count": 155,
   "id": "60a82f60",
   "metadata": {},
   "outputs": [
    {
     "name": "stdout",
     "output_type": "stream",
     "text": [
      "Crossfox {'valor': 72000, 'ano': 2005}\n",
      "DS5 {'valor': 125000, 'ano': 2015}\n",
      "Jetta {'valor': 88000, 'ano': 2010}\n"
     ]
    }
   ],
   "source": [
    "for chave,valor in dados3.items():\n",
    "    if valor['ano'] >= 2000:\n",
    "        print(chave, valor)"
   ]
  },
  {
   "cell_type": "code",
   "execution_count": 162,
   "id": "a3a437a2",
   "metadata": {},
   "outputs": [
    {
     "ename": "ValueError",
     "evalue": "too many values to unpack (expected 2)",
     "output_type": "error",
     "traceback": [
      "\u001b[1;31m---------------------------------------------------------------------------\u001b[0m",
      "\u001b[1;31mValueError\u001b[0m                                Traceback (most recent call last)",
      "\u001b[1;32m~\\AppData\\Local\\Temp\\ipykernel_13252\\3544146511.py\u001b[0m in \u001b[0;36m<module>\u001b[1;34m\u001b[0m\n\u001b[1;32m----> 1\u001b[1;33m \u001b[1;32mfor\u001b[0m \u001b[0mkey\u001b[0m\u001b[1;33m,\u001b[0m \u001b[0mvalor\u001b[0m \u001b[1;32min\u001b[0m \u001b[0mdados3\u001b[0m\u001b[1;33m:\u001b[0m\u001b[1;33m\u001b[0m\u001b[1;33m\u001b[0m\u001b[0m\n\u001b[0m\u001b[0;32m      2\u001b[0m         \u001b[0mprint\u001b[0m\u001b[1;33m(\u001b[0m\u001b[0mvalor\u001b[0m\u001b[1;33m)\u001b[0m\u001b[1;33m\u001b[0m\u001b[1;33m\u001b[0m\u001b[0m\n",
      "\u001b[1;31mValueError\u001b[0m: too many values to unpack (expected 2)"
     ]
    }
   ],
   "source": [
    "for key, valor in dados3:\n",
    "        print(valor)"
   ]
  },
  {
   "cell_type": "code",
   "execution_count": 136,
   "id": "1fdcefcc",
   "metadata": {},
   "outputs": [
    {
     "name": "stdout",
     "output_type": "stream",
     "text": [
      "{'valor': 72000, 'ano': 2005}\n",
      "{'valor': 125000, 'ano': 2015}\n",
      "{'valor': 88000, 'ano': 2010}\n"
     ]
    }
   ],
   "source": [
    "for item in dados.values():\n",
    "    if(item['ano'] >= 2000):\n",
    "        print(item)"
   ]
  },
  {
   "cell_type": "code",
   "execution_count": 137,
   "id": "2606235c",
   "metadata": {},
   "outputs": [
    {
     "name": "stdout",
     "output_type": "stream",
     "text": [
      "{'Crossfox': {'valor': 72000, 'ano': 2005}, 'DS5': {'valor': 125000, 'ano': 2015}, 'Fusca': {'valor': 150000, 'ano': 1976}, 'Jetta': {'valor': 88000, 'ano': 2010}, 'Passat': {'valor': 106000, 'ano': 1998}}\n",
      "{'Crossfox': {'valor': 72000, 'ano': 2005}, 'DS5': {'valor': 125000, 'ano': 2015}, 'Fusca': {'valor': 150000, 'ano': 1976}, 'Jetta': {'valor': 88000, 'ano': 2010}, 'Passat': {'valor': 106000, 'ano': 1998}}\n",
      "{'Crossfox': {'valor': 72000, 'ano': 2005}, 'DS5': {'valor': 125000, 'ano': 2015}, 'Fusca': {'valor': 150000, 'ano': 1976}, 'Jetta': {'valor': 88000, 'ano': 2010}, 'Passat': {'valor': 106000, 'ano': 1998}}\n"
     ]
    }
   ],
   "source": []
  },
  {
   "cell_type": "code",
   "execution_count": null,
   "id": "0082f5fb",
   "metadata": {},
   "outputs": [],
   "source": []
  }
 ],
 "metadata": {
  "kernelspec": {
   "display_name": "ambienteVirtual",
   "language": "python",
   "name": "ambientevirtual"
  },
  "language_info": {
   "codemirror_mode": {
    "name": "ipython",
    "version": 3
   },
   "file_extension": ".py",
   "mimetype": "text/x-python",
   "name": "python",
   "nbconvert_exporter": "python",
   "pygments_lexer": "ipython3",
   "version": "3.9.13"
  }
 },
 "nbformat": 4,
 "nbformat_minor": 5
}
