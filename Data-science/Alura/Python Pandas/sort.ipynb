{
 "cells": [
  {
   "cell_type": "code",
   "execution_count": 1,
   "metadata": {
    "executionInfo": {
     "elapsed": 224,
     "status": "ok",
     "timestamp": 1672425446600,
     "user": {
      "displayName": "gabriel Santos",
      "userId": "15324062844337704567"
     },
     "user_tz": 180
    },
    "id": "jLMZsi0Qs2Nn"
   },
   "outputs": [],
   "source": [
    "import pandas as pd\n",
    "import tabula\n",
    "from tables import Column"
   ]
  },
  {
   "cell_type": "code",
   "execution_count": null,
   "metadata": {
    "executionInfo": {
     "elapsed": 2,
     "status": "ok",
     "timestamp": 1672424997988,
     "user": {
      "displayName": "gabriel Santos",
      "userId": "15324062844337704567"
     },
     "user_tz": 180
    },
    "id": "PaA9xcjXQO0y"
   },
   "outputs": [],
   "source": []
  },
  {
   "cell_type": "code",
   "execution_count": 11,
   "metadata": {
    "colab": {
     "base_uri": "https://localhost:8080/",
     "height": 2267
    },
    "executionInfo": {
     "elapsed": 4429,
     "status": "ok",
     "timestamp": 1672426657335,
     "user": {
      "displayName": "gabriel Santos",
      "userId": "15324062844337704567"
     },
     "user_tz": 180
    },
    "id": "eO2cibNDs-Qb",
    "outputId": "a3ba4bd7-dbbd-4b1f-8574-d75b25c5a3bd"
   },
   "outputs": [
    {
     "data": {
      "text/html": [
       "<div>\n",
       "<style scoped>\n",
       "    .dataframe tbody tr th:only-of-type {\n",
       "        vertical-align: middle;\n",
       "    }\n",
       "\n",
       "    .dataframe tbody tr th {\n",
       "        vertical-align: top;\n",
       "    }\n",
       "\n",
       "    .dataframe thead th {\n",
       "        text-align: right;\n",
       "    }\n",
       "</style>\n",
       "<table border=\"1\" class=\"dataframe\">\n",
       "  <thead>\n",
       "    <tr style=\"text-align: right;\">\n",
       "      <th></th>\n",
       "      <th>Infinitive</th>\n",
       "      <th>Past</th>\n",
       "      <th>Significado</th>\n",
       "    </tr>\n",
       "  </thead>\n",
       "  <tbody>\n",
       "    <tr>\n",
       "      <th>0</th>\n",
       "      <td>Abandon</td>\n",
       "      <td>Abandoned</td>\n",
       "      <td>Abandonar</td>\n",
       "    </tr>\n",
       "    <tr>\n",
       "      <th>1</th>\n",
       "      <td>Abolish</td>\n",
       "      <td>Abolished</td>\n",
       "      <td>Abolir</td>\n",
       "    </tr>\n",
       "    <tr>\n",
       "      <th>2</th>\n",
       "      <td>Absorb</td>\n",
       "      <td>Absorbed</td>\n",
       "      <td>Absorver</td>\n",
       "    </tr>\n",
       "    <tr>\n",
       "      <th>3</th>\n",
       "      <td>Abuse</td>\n",
       "      <td>Abused</td>\n",
       "      <td>Abusar</td>\n",
       "    </tr>\n",
       "    <tr>\n",
       "      <th>4</th>\n",
       "      <td>Accede</td>\n",
       "      <td>Acceded</td>\n",
       "      <td>Acessar</td>\n",
       "    </tr>\n",
       "    <tr>\n",
       "      <th>...</th>\n",
       "      <td>...</td>\n",
       "      <td>...</td>\n",
       "      <td>...</td>\n",
       "    </tr>\n",
       "    <tr>\n",
       "      <th>197</th>\n",
       "      <td>Whistle</td>\n",
       "      <td>Whistled</td>\n",
       "      <td>Assobiar</td>\n",
       "    </tr>\n",
       "    <tr>\n",
       "      <th>198</th>\n",
       "      <td>Wish</td>\n",
       "      <td>Wished</td>\n",
       "      <td>Desejar</td>\n",
       "    </tr>\n",
       "    <tr>\n",
       "      <th>199</th>\n",
       "      <td>Work</td>\n",
       "      <td>Worked</td>\n",
       "      <td>Trabalhar</td>\n",
       "    </tr>\n",
       "    <tr>\n",
       "      <th>200</th>\n",
       "      <td>Worry</td>\n",
       "      <td>Worried</td>\n",
       "      <td>Preocupar-se</td>\n",
       "    </tr>\n",
       "    <tr>\n",
       "      <th>201</th>\n",
       "      <td>Wound</td>\n",
       "      <td>Wounded</td>\n",
       "      <td>Ferir</td>\n",
       "    </tr>\n",
       "  </tbody>\n",
       "</table>\n",
       "<p>202 rows × 3 columns</p>\n",
       "</div>"
      ],
      "text/plain": [
       "    Infinitive       Past   Significado\n",
       "0      Abandon  Abandoned     Abandonar\n",
       "1      Abolish  Abolished        Abolir\n",
       "2       Absorb   Absorbed      Absorver\n",
       "3        Abuse     Abused        Abusar\n",
       "4       Accede    Acceded       Acessar\n",
       "..         ...        ...           ...\n",
       "197    Whistle   Whistled      Assobiar\n",
       "198       Wish     Wished       Desejar\n",
       "199       Work     Worked     Trabalhar\n",
       "200      Worry    Worried  Preocupar-se\n",
       "201      Wound    Wounded         Ferir\n",
       "\n",
       "[202 rows x 3 columns]"
      ]
     },
     "execution_count": 11,
     "metadata": {},
     "output_type": "execute_result"
    }
   ],
   "source": [
    "#dfs = tabula.read_pdf(\"tabela.pdf\",  stream = True ,pages = 'all') #nesse modo com o stream ligado a organização pega o primeiro item da pagina como coluna. para esse caso não é algo bom\n",
    "dfs = tabula.read_pdf(\"tabela.pdf\",  pages = 'all')\n",
    "#len(dfs)\n",
    "#for itens in dfs:\n",
    "#  print(itens)\n",
    "#dfs.index = range(dfs.shape[0])\n",
    "\n",
    "tamanho = len(dfs)\n",
    "df2 = pd.DataFrame(dfs[0])\n",
    "i=1\n",
    "for i in range(tamanho): \n",
    "  df = pd.DataFrame(dfs[i])\n",
    "  df.columns = dfs[0].columns\n",
    "  df2 = pd.merge(df2, df,how = 'outer')\n",
    "  df2.sort_values(by = 'Infinitive',inplace = True)\n",
    "  df2.sort_index(inplace = True, axis = 1)\n",
    "df2"
   ]
  },
  {
   "cell_type": "markdown",
   "metadata": {
    "colab": {
     "base_uri": "https://localhost:8080/",
     "height": 525
    },
    "executionInfo": {
     "elapsed": 251,
     "status": "error",
     "timestamp": 1672426799275,
     "user": {
      "displayName": "gabriel Santos",
      "userId": "15324062844337704567"
     },
     "user_tz": 180
    },
    "id": "oqd1Eka3gP0y",
    "outputId": "b94064a7-a2d7-4b58-f6d1-138268da0897"
   },
   "source": [
    "#Verificar se tem valores nulos na tabela"
   ]
  },
  {
   "cell_type": "code",
   "execution_count": 18,
   "metadata": {
    "id": "eYvRhmNIsepn"
   },
   "outputs": [
    {
     "data": {
      "text/plain": [
       "0      False\n",
       "1      False\n",
       "2      False\n",
       "3      False\n",
       "4      False\n",
       "       ...  \n",
       "197    False\n",
       "198    False\n",
       "199    False\n",
       "200    False\n",
       "201    False\n",
       "Name: Significado, Length: 202, dtype: bool"
      ]
     },
     "execution_count": 18,
     "metadata": {},
     "output_type": "execute_result"
    }
   ],
   "source": [
    "df2['Significado'].isnull()# verica se tem algum valor em null e retorna true caso seja nulo o notnull retorna false caso tenha valores em null\n"
   ]
  },
  {
   "cell_type": "markdown",
   "metadata": {
    "id": "rJt_FypPfTe3"
   },
   "source": []
  },
  {
   "cell_type": "code",
   "execution_count": 4,
   "metadata": {
    "id": "fvSFHjccvASQ"
   },
   "outputs": [],
   "source": [
    "\n",
    " "
   ]
  },
  {
   "cell_type": "code",
   "execution_count": 5,
   "metadata": {
    "colab": {
     "base_uri": "https://localhost:8080/",
     "height": 424
    },
    "executionInfo": {
     "elapsed": 259,
     "status": "ok",
     "timestamp": 1672283056056,
     "user": {
      "displayName": "gabriel Santos",
      "userId": "15324062844337704567"
     },
     "user_tz": 180
    },
    "id": "qucfNEC6eSNd",
    "outputId": "e2fe8ff0-819a-45e2-8568-5b2229d97df8"
   },
   "outputs": [],
   "source": []
  },
  {
   "cell_type": "code",
   "execution_count": null,
   "metadata": {},
   "outputs": [],
   "source": []
  },
  {
   "cell_type": "code",
   "execution_count": null,
   "metadata": {},
   "outputs": [],
   "source": []
  }
 ],
 "metadata": {
  "colab": {
   "authorship_tag": "ABX9TyOpyfQ4S3579R01jaGI2Axx",
   "provenance": []
  },
  "kernelspec": {
   "display_name": "Python 3 (ipykernel)",
   "language": "python",
   "name": "python3"
  },
  "language_info": {
   "codemirror_mode": {
    "name": "ipython",
    "version": 3
   },
   "file_extension": ".py",
   "mimetype": "text/x-python",
   "name": "python",
   "nbconvert_exporter": "python",
   "pygments_lexer": "ipython3",
   "version": "3.9.13"
  }
 },
 "nbformat": 4,
 "nbformat_minor": 1
}
